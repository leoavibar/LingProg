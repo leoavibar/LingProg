{
 "cells": [
  {
   "cell_type": "markdown",
   "metadata": {},
   "source": [
    "# Trabalho do LingProg\n",
    "\n",
    "### ***Listas***\n",
    "\n",
    "1 Crie um programa que recebe uma lista de números e\n",
    "- retorne o maior elemento\n",
    "- retorne a soma dos elementos\n",
    "- retorne o número de ocorrências do primeiro elemento da lista\n",
    "- retorne a média dos elementos\n",
    "- retorne o valor mais próximo da média dos elementos\n",
    "- retorne a soma dos elementos com valor negativo\n",
    "- retorne a quantidade de vizinhos iguais"
   ]
  },
  {
   "cell_type": "code",
   "execution_count": 1,
   "metadata": {},
   "outputs": [
    {
     "name": "stdin",
     "output_type": "stream",
     "text": [
      "Insira o 1 elemento:  1\n",
      "Insira o 2 elemento:  2\n",
      "Insira o 3 elemento:  3\n"
     ]
    },
    {
     "name": "stdout",
     "output_type": "stream",
     "text": [
      "Maior elemento:  3\n",
      "Soma dos elementos:  6\n",
      "Número de ocorrencias de 1: 1\n",
      "Média dos elementos:  2.0\n",
      "Número mais próximo da média:  2\n",
      "Soma dos elementos negativos:  0\n",
      "Vizinhos iguais:  0\n"
     ]
    }
   ],
   "source": [
    "list = [\n",
    "    int(input(\"Insira o 1 elemento: \")),\n",
    "    int(input(\"Insira o 2 elemento: \")),\n",
    "    int(input(\"Insira o 3 elemento: \"))\n",
    "]\n",
    "\n",
    "maior = list[0]\n",
    "soma = 0\n",
    "somaNeg = 0\n",
    "numOcorrenciasPrimeiro = 0\n",
    "vizinhos = 0\n",
    "anterior = list[0] + 1\n",
    "\n",
    "for num in list:\n",
    "    # maior\n",
    "    if num > maior:\n",
    "        maior = num\n",
    "    # soma\n",
    "    soma += num\n",
    "    # num de ocorrencias do primeiro\n",
    "    if num == list[0]:\n",
    "        numOcorrenciasPrimeiro += 1    \n",
    "    # soma de negativos\n",
    "    if num < 0:\n",
    "        somaNeg += num\n",
    "    # vizinhos iguais\n",
    "    if num == anterior:\n",
    "        vizinhos += 1\n",
    "    anterior = num\n",
    "# media\n",
    "media = soma / len(list)\n",
    "\n",
    "maisProximo = list[0]\n",
    "diferenca = media - list[0]\n",
    "menorDiferenca = diferenca\n",
    "for num in list:\n",
    "    #valor mais próximo da média\n",
    "    diferenca = media - num\n",
    "    if diferenca < 0:\n",
    "        diferenca = diferenca * -1\n",
    "    if diferenca < menorDiferenca:\n",
    "        menorDiferenca = diferenca\n",
    "        maisProximo = num\n",
    "        \n",
    "print(\"Maior elemento: \", maior)\n",
    "print(\"Soma dos elementos: \", soma)\n",
    "print(\"Número de ocorrencias de %i: %i\" % (list[0], numOcorrenciasPrimeiro))\n",
    "print(\"Média dos elementos: \", media)\n",
    "print(\"Número mais próximo da média: \", maisProximo)\n",
    "print(\"Soma dos elementos negativos: \", somaNeg)\n",
    "print(\"Vizinhos iguais: \", vizinhos)"
   ]
  },
  {
   "cell_type": "markdown",
   "metadata": {},
   "source": [
    "2 Faça um programa que receba duas listas e retorne True se são iguais ou False caso\n",
    "contrario.  \n",
    "Duas listas são iguais se possuem os mesmos valores e na mesma ordem."
   ]
  },
  {
   "cell_type": "code",
   "execution_count": 3,
   "metadata": {},
   "outputs": [
    {
     "name": "stdout",
     "output_type": "stream",
     "text": [
      "As listas são iguais:  True\n",
      "As listas são iguais:  False\n",
      "As listas são iguais:  False\n"
     ]
    }
   ],
   "source": [
    "def saoIguais(list1, list2):\n",
    "    if len(list1) == len(list2):\n",
    "        for i in range(0, len(list1)):\n",
    "            if list1[i] != list2[i]:\n",
    "                return False\n",
    "        return True\n",
    "    return False\n",
    "\n",
    "#listas iguais\n",
    "list1, list2 = [15, 30, 60], [15, 30, 60]\n",
    "print(\"As listas são iguais: \", saoIguais(list1, list2))\n",
    "# listas diferentes em ordem\n",
    "list1, list2 = [15, 1, 30], [15, 30, 1]\n",
    "print(\"As listas são iguais: \", saoIguais(list1, list2))\n",
    "# listas diferentes em tamanho\n",
    "list1, list2 = [2, 6], [10, 8, 7]\n",
    "print(\"As listas são iguais: \", saoIguais(list1, list2))"
   ]
  },
  {
   "cell_type": "markdown",
   "metadata": {},
   "source": [
    "3 Faça um programa que receba duas listas e retorne True se têm os mesmos   \n",
    "elementos ou False caso contrário   \n",
    "Duas listas possuem os mesmos elementos quando são compostas pelos mesmos   \n",
    "valores, mas não obrigatoriamente na mesma ordem."
   ]
  },
  {
   "cell_type": "code",
   "execution_count": 4,
   "metadata": {},
   "outputs": [
    {
     "name": "stdout",
     "output_type": "stream",
     "text": [
      "As listas possuem mesmo conteúdo:  True\n",
      "As listas possuem mesmo conteúdo:  True\n",
      "As listas possuem mesmo conteúdo:  False\n"
     ]
    }
   ],
   "source": [
    "def possuemMesmoConteudo(list1, list2):\n",
    "    list1.sort()\n",
    "    list2.sort()\n",
    "    if len(list1) == len(list2):\n",
    "        for i in range(0, len(list1)):\n",
    "            if list1[i] != list2[i]:\n",
    "                return False\n",
    "        return True\n",
    "    return False\n",
    "\n",
    "#listas iguais\n",
    "list1, list2 = [15, 30, 60], [15, 30, 60]\n",
    "print(\"As listas possuem mesmo conteúdo: \", possuemMesmoConteudo(list1, list2))\n",
    "# listas diferentes em ordem\n",
    "list1, list2 = [15, 1, 30], [15, 30, 1]\n",
    "print(\"As listas possuem mesmo conteúdo: \", possuemMesmoConteudo(list1, list2))\n",
    "# listas diferentes em tamanho\n",
    "list1, list2 = [2, 6], [10, 8, 7]\n",
    "print(\"As listas possuem mesmo conteúdo: \", possuemMesmoConteudo(list1, list2))"
   ]
  },
  {
   "cell_type": "markdown",
   "metadata": {},
   "source": [
    "4 Faça um programa que percorre uma lista com o seguinte formato:   \n",
    "[['Brasil', 'Italia', [10, 9]], ['Brasil', 'Espanha', [5, 7]], ['Italia', 'Espanha', [7,8]]].   \n",
    "Essa lista indica o número de faltas que cada time fez em cada jogo. Na lista acima, no jogo entre Brasil e    Itália, o Brasil fez 10 faltas e a Itália fez 9. O programa deve imprimir na tela:   \n",
    "O programa deve imprimir na tela:\n",
    "- o total de faltas do campeonato\n",
    "- o time que fez mais faltas\n",
    "- o time que fez menos faltas"
   ]
  },
  {
   "cell_type": "code",
   "execution_count": 5,
   "metadata": {},
   "outputs": [
    {
     "name": "stdout",
     "output_type": "stream",
     "text": [
      "Total de faltas do campeonato:  46\n"
     ]
    }
   ],
   "source": [
    "lista = [['Brasil', 'Italia', [10, 9]], ['Brasil', 'Espanha', [5, 7]], ['Italia', 'Espanha', [7,8]]]\n",
    "times = []\n",
    "        \n",
    "totalFaltas = 0\n",
    "for jogo in lista:\n",
    "    totalFaltas += jogo[2][0] + jogo[2][1]\n",
    "    \n",
    "print(\"Total de faltas do campeonato: \", totalFaltas)"
   ]
  },
  {
   "cell_type": "markdown",
   "metadata": {},
   "source": [
    "### ***Dicionários***\n",
    "\n",
    "\n",
    "5 Escreva um programa que conta a quantidade de vogais em uma string e armazena   \n",
    "tal quantidade em um dicionário, onde a chave é a vogal considerada."
   ]
  },
  {
   "cell_type": "code",
   "execution_count": 12,
   "metadata": {},
   "outputs": [
    {
     "name": "stdout",
     "output_type": "stream",
     "text": [
      "Quantidade de A's: 4\n",
      "Quantidade de E's: 2\n",
      "Quantidade de I's: 2\n",
      "Quantidade de O's: 2\n",
      "Quantidade de U's: 0\n"
     ]
    }
   ],
   "source": [
    "string = \"Leonardo Martinez Avibar\"\n",
    "dic = {\n",
    "    \"a\": 0,\n",
    "    \"e\": 0,\n",
    "    \"i\": 0,\n",
    "    \"o\": 0,\n",
    "    \"u\": 0,\n",
    "}\n",
    "\n",
    "for letra in string:\n",
    "    if letra.lower() == \"a\":\n",
    "        dic[\"a\"] += 1\n",
    "    if letra.lower() == \"e\":\n",
    "        dic[\"e\"] += 1\n",
    "    if letra.lower() == \"i\":\n",
    "        dic[\"i\"] += 1\n",
    "    if letra.lower() == \"o\":\n",
    "        dic[\"o\"] += 1\n",
    "    if letra.lower() == \"u\":\n",
    "        dic[\"u\"] += 1\n",
    "        \n",
    "print(\"Quantidade de A's:\", dic[\"a\"])\n",
    "print(\"Quantidade de E's:\", dic[\"e\"])\n",
    "print(\"Quantidade de I's:\", dic[\"i\"])\n",
    "print(\"Quantidade de O's:\", dic[\"o\"])\n",
    "print(\"Quantidade de U's:\", dic[\"u\"])"
   ]
  },
  {
   "cell_type": "markdown",
   "metadata": {},
   "source": [
    "6 Escreva um programa que lê̂ duas notas de vários alunos e armazena tais notas em   \n",
    "um dicionário, onde a chave é o nome do aluno. A entrada de dados deve terminar   \n",
    "quando for lida uma string vazia como nome. Escreva uma função que retorna a   \n",
    "média do aluno, dado seu nome.   "
   ]
  },
  {
   "cell_type": "code",
   "execution_count": 7,
   "metadata": {},
   "outputs": [
    {
     "name": "stdin",
     "output_type": "stream",
     "text": [
      "Insira o nome do aluno:  Leonardo Martinez Avibar \n",
      "Insira a primeira nota:  5.0\n",
      "Insira a segunda nota:  7.0\n",
      "Insira o nome do aluno:  \n",
      "Insira o nome do aluno o qual deseja ver a média:  Leonardo Martinez Avibar \n"
     ]
    },
    {
     "data": {
      "text/plain": [
       "6.0"
      ]
     },
     "execution_count": 7,
     "metadata": {},
     "output_type": "execute_result"
    }
   ],
   "source": [
    "dic = {}\n",
    "i = 0\n",
    "nome = input(\"Insira o nome do aluno: \")\n",
    "while nome != \"\":\n",
    "    dic[nome] = [\n",
    "        float(input(\"Insira a primeira nota: \")),\n",
    "        float(input(\"Insira a segunda nota: \"))\n",
    "    ]\n",
    "    nome = input(\"Insira o nome do aluno: \")\n",
    "\n",
    "def media(nome):\n",
    "    return (dic[nome][0] + dic[nome][1]) / 2\n",
    "\n",
    "media(input(\"Insira o nome do aluno o qual deseja ver a média: \"))"
   ]
  },
  {
   "cell_type": "markdown",
   "metadata": {},
   "source": [
    "7 Uma pista de Kart permite 10 voltas para cada um de 6 corredores. Escreva um   \n",
    "programa que leia todos os tempos em segundos e os guarde em um dicionário,   \n",
    "onde a chave é o nome do corredor. Ao final diga de quem foi a melhor volta da   \n",
    "prova e em que volta; e ainda a classificação final em ordem (1 o o campeão). O   \n",
    "campeão é o que tem a menor média de tempos.   "
   ]
  },
  {
   "cell_type": "code",
   "execution_count": 8,
   "metadata": {},
   "outputs": [
    {
     "name": "stdout",
     "output_type": "stream",
     "text": [
      "Melhor volta foi de 48 segundos, do corredor Corredor3\n",
      "1° lugar: Corredor3 - 59.9 segs.\n",
      "2° lugar: Corredor1 - 60.6 segs.\n",
      "3° lugar: Corredor2 - 60.8 segs.\n",
      "4° lugar: Corredor5 - 61.2 segs.\n",
      "5° lugar: Corredor6 - 61.6 segs.\n",
      "6° lugar: Corredor4 - 63.8 segs.\n"
     ]
    }
   ],
   "source": [
    "import operator\n",
    "\n",
    "kart = {'Corredor1':[57, 58, 60, 56, 64, 70, 59, 58, 69, 55], \n",
    "         'Corredor2':[56, 60, 72, 50, 67, 58, 61, 63, 62, 59], \n",
    "         'Corredor3':[79, 52, 58, 48, 58, 59, 61, 65, 59, 60], \n",
    "         'Corredor4':[56, 50, 55, 70, 85, 73, 68, 65, 56, 60], \n",
    "         'Corredor5':[69, 55, 67, 50, 52, 53, 70, 75, 65, 56], \n",
    "         'Corredor6':[56, 63, 63, 65, 70, 59, 55, 60, 63, 62]}\n",
    "\n",
    "volta = 0\n",
    "medias = kart\n",
    "nome = \"\"\n",
    "melhorVolta = kart[\"Corredor1\"][0]\n",
    "for chave in kart:\n",
    "    soma = 0\n",
    "    for num in kart[chave]:\n",
    "        if num < melhorVolta:\n",
    "            melhorVolta = num\n",
    "            nome = chave\n",
    "        soma += num\n",
    "    medias[chave] = soma / 10\n",
    "    \n",
    "print(\"Melhor volta foi de\",melhorVolta,\"segundos, do corredor\",nome)\n",
    "sort = sorted(medias.items(), key=operator.itemgetter(1))\n",
    "for i in range(0, 6):\n",
    "    print(\"%s° lugar: %s - %s segs.\" % (i + 1, sort[i][0], sort[i][1]))"
   ]
  },
  {
   "cell_type": "markdown",
   "metadata": {},
   "source": [
    "8 Escreva um programa para armazenar uma agenda de telefones em um dicionário.   \n",
    "Cada pessoa pode ter um ou mais telefones e a chave do dicionário é o nome da   \n",
    "pessoa. Seu programa deve ter as seguintes funções:   \n",
    "- incluirNovoNome – essa função acrescenta um novo nome na agenda, com um ou   \n",
    "mais telefones. Ela deve receber como argumentos o nome e os telefones.   \n",
    "- incluirTelefone – essa função acrescenta um telefone em um nome existente na   \n",
    "agenda. Caso o nome não exista na agenda, você̂ deve perguntar se a pessoa deseja   \n",
    "inclui-lo. Caso a resposta seja afirmativa, use a função anterior para incluir o novo   \n",
    "nome.   \n",
    "- excluirTelefone – essa função exclui um telefone de uma pessoa que já está na   \n",
    "agenda. Se a pessoa tiver apenas um telefone, ela deve ser excluída da agenda.    \n",
    "- excluirNome – essa função exclui uma pessoa da agenda.    \n",
    "- consultarTelefone – essa função retorna os telefones de uma pessoa na agenda."
   ]
  },
  {
   "cell_type": "code",
   "execution_count": 9,
   "metadata": {},
   "outputs": [
    {
     "name": "stdin",
     "output_type": "stream",
     "text": [
      "\n",
      "Escolha uma opção: \n",
      "1 - Incluir Novo Nome\n",
      "2 - Incluir Telefone\n",
      "3 - Excluir Telefone\n",
      "4 - Excluir Nome\n",
      "5 - Consultar Agenda\n",
      "0 - Encerrar Programa\n",
      " 0\n"
     ]
    }
   ],
   "source": [
    "agenda = {}\n",
    "\n",
    "def incluirNovoNome(nome, telefones):\n",
    "    global agenda\n",
    "    agenda[nome] = telefones\n",
    "    \n",
    "def incluirTelefone(nome, telefone):\n",
    "    global agenda\n",
    "    if nome in agenda.keys():\n",
    "        agenda[nome].append(telefone)\n",
    "    else:\n",
    "        if input(\"Essa pessoa não existe, incluir ela na agenda (s/n)? \") == \"s\":\n",
    "            telefones = [telefone]\n",
    "            incluirNovoNome(nome, telefones)\n",
    "            \n",
    "def excluirTelefone(nome, telefone):\n",
    "    if nome in agenda.keys():\n",
    "        if len(agenda[nome]) == 1:\n",
    "            del agenda[nome]\n",
    "        else:\n",
    "            agenda[nome].remove(telefone)\n",
    "            \n",
    "def excluirNome(nome):\n",
    "    del agenda[nome]\n",
    "\n",
    "def consultarTelefone(nome):\n",
    "    global agenda\n",
    "    if nome in agenda.keys():\n",
    "        print(agenda[nome])\n",
    "    \n",
    "opcao = -1\n",
    "while opcao != 0:\n",
    "    opcao = int(input(\"\\nEscolha uma opção: \\n1 - Incluir Novo Nome\\n2 - Incluir Telefone\\n3 - Excluir Telefone\\n4 - Excluir Nome\\n5 - Consultar Agenda\\n0 - Encerrar Programa\\n\"))\n",
    "    \n",
    "    if opcao == 1:\n",
    "        nome = input(\"Insira o nome da pessoa: \")\n",
    "        telefones = []\n",
    "        telefones.append(int(input(\"Insira um telefone da pessoa: \")))\n",
    "        telefone = -1\n",
    "        while telefone != 0:\n",
    "            telefone = int(input(\"Inserir outro telefone (ou digite 0 para parar): \"))\n",
    "            if telefone != 0:\n",
    "                telefones.append(telefone)\n",
    "        incluirNovoNome(nome, telefones)\n",
    "\n",
    "    elif opcao == 2:\n",
    "        nome = input(\"Insira o nome da pessoa: \")\n",
    "        telefone = int(input(\"Insira um novo telefone da pessoa: \"))\n",
    "        incluirTelefone(nome, telefone)\n",
    "   \n",
    "    elif opcao == 3:\n",
    "        nome = input(\"Insira o nome da pessoa: \")\n",
    "        telefone = int(input(\"Insira o telefone da pessoa a qual deseja excluir: \"))\n",
    "        excluirTelefone(nome, telefone)\n",
    "    \n",
    "    elif opcao == 4:\n",
    "        excluirNome(input(\"Insira o nome da pessoa: \"))\n",
    "    \n",
    "    elif opcao == 5:\n",
    "        consultarTelefone(input(\"Insira o nome da pessoa: \"))"
   ]
  },
  {
   "cell_type": "markdown",
   "metadata": {},
   "source": [
    "### ***Arquivos***\n",
    "\n",
    "9 Faça um programa que leia um arquivo texto contendo uma lista de endereços IP e   \n",
    "gere um outro arquivo, contendo um relatório dos endereços IP válidos e inválidos.   \n",
    "O arquivo de entrada possui o seguinte formato:   \n",
    "\n",
    "200.135.80.9   \n",
    "192.168.1.1   \n",
    "8.35.67.74   \n",
    "257.32.4.5   \n",
    "85.345.1.2   \n",
    "1.2.3.4   \n",
    "9.8.234.5   \n",
    "192.168.0.256   \n",
    "\n",
    "O arquivo de saída possui o seguinte formato:\n",
    "\n",
    "[Endereços válidos:]   \n",
    "200.135.80.9   \n",
    "192.168.1.1   \n",
    "8.35.67.74   \n",
    "1.2.3.4   \n",
    "[Endereços inválidos:]    \n",
    "257.32.4.5   \n",
    "85.345.1.2   \n",
    "9.8.234.5   \n",
    "192.168.0.256   "
   ]
  },
  {
   "cell_type": "code",
   "execution_count": 10,
   "metadata": {},
   "outputs": [],
   "source": [
    "import socket\n",
    "\n",
    "ips_validos = []\n",
    "ips_invalidos = []\n",
    "\n",
    "ips = open(\"ips.txt\")\n",
    "\n",
    "for ip in ips:\n",
    "    try:\n",
    "        socket.inet_aton(ip)\n",
    "        ips_validos.append(ip)\n",
    "    except:\n",
    "        ips_invalidos.append(ip)\n",
    "        \n",
    "ips.close()\n",
    "\n",
    "saida = open(\"ipsvalidados.txt\", \"w+\")\n",
    "\n",
    "saida.write(\"[Endereços válidos:]\\n\")\n",
    "for ip in ips_validos:\n",
    "    saida.write(ip)\n",
    "    \n",
    "saida.write(\"\\nEndereços inválidos:}\\n\")\n",
    "for ip in ips_invalidos:\n",
    "    saida.write(ip)\n",
    "saida.close()\n"
   ]
  },
  {
   "cell_type": "markdown",
   "metadata": {},
   "source": [
    "10 A ACME Inc., uma empresa de 500 funcionários, está tendo problemas de espaço em disco no seu servidor de arquivos. Para tentar resolver este problema, o Administrador de Rede precisa saber qual o espaço ocupado pelos usuários, e identificar os usuários com maior espaço ocupado. Através de um programa, baixado da Internet, ele conseguiu gerar o seguinte arquivo, chamado \"usuarios.txt\":   \n",
    "\n",
    "alexandre 456123789   \n",
    "anderson 1245698456   \n",
    "antonio 123456456   \n",
    "carlos 91257581    \n",
    "cesar 987458    \n",
    "rosemary 789456125    \n",
    "\n",
    "Neste arquivo, o nome do usuário possui 15 caracteres. A partir deste arquivo, você deve criar um programa que gere um relatório, chamado \"relatório.txt\", no seguinte formato:\n",
    "\n",
    "ACME Inc.                         Uso do espaço em disco pelos usuários\n",
    "\n",
    "------------------------------------------------------------------------\n",
    "Nr. Usuário Espaço utilizado % do uso     \n",
    "1 alexandre 434,99 MB 16,85%    \n",
    "2 anderson 1187,99 MB 46,02%    \n",
    "3 antonio 117,73 MB 4,56%    \n",
    "4 carlos 87,03 MB 3,37%    \n",
    "5 cesar 0,94 MB 0,04%    \n",
    "6 rosemary 752,88 MB 29,16%     \n",
    "Espaço total ocupado: 2581,57 MB    \n",
    "Espaço médio ocupado: 430,26 MB    \n",
    "\n",
    "O arquivo de entrada deve ser lido uma única vez, e os dados armazenados em memória, caso sejam necessários, de forma a agilizar a execução do programa. A conversão da espaço ocupado em disco, de bytes para megabytes deverá ser feita através de uma função separada, que será chamada pelo programa principal. O cálculo do percentual de uso também deverá ser feito através de uma função, que será chamada pelo programa principal."
   ]
  },
  {
   "cell_type": "code",
   "execution_count": 11,
   "metadata": {},
   "outputs": [],
   "source": [
    "def paraMb(tamanho):\n",
    "    return float(tamanho / (1024*1024))\n",
    "\n",
    "def usoMemoria(tamanho, total):\n",
    "    return float(tamanho / total) * 100\n",
    "\n",
    "dic = {}\n",
    "total = 0\n",
    "usuarios = open(\"usuarios.txt\")\n",
    "for usuario in usuarios:\n",
    "    nome, memoria = usuario.split(\" \")\n",
    "    dic[nome] = int(memoria)\n",
    "    total += int(memoria)\n",
    "usuarios.close()\n",
    "media = total / len(dic.keys())\n",
    "\n",
    "relatorio = open(\"relatório.txt\", \"w+\")\n",
    "relatorio.write(\"ACME Inc.               Uso do espaço em disco pelos usuários.\\n\")\n",
    "relatorio.write(\"--------------------------------------------------------------\\n\")\n",
    "relatorio.write(\"Nr.\\tUsuário \\tEspaço utilizado\\t% do uso\\n\")\n",
    "\n",
    "nr = 1\n",
    "\n",
    "for usuario in dic:\n",
    "    relatorio.write(f'{str(nr)}\\t{usuario}   \\t{paraMb(dic[usuario]):.2f} MB   \\t\\t{usoMemoria(dic[usuario], total):.2f} \\n')\n",
    "    nr += 1\n",
    "    \n",
    "relatorio.write(f'Espaço total ocupado: {paraMb(total):.2f}\\n' +\n",
    "                f'Espaço médio ocupado {paraMb(media):.2f}')\n",
    "\n",
    "relatorio.close()"
   ]
  }
 ],
 "metadata": {
  "kernelspec": {
   "display_name": "Python 3",
   "language": "python",
   "name": "python3"
  },
  "language_info": {
   "codemirror_mode": {
    "name": "ipython",
    "version": 3
   },
   "file_extension": ".py",
   "mimetype": "text/x-python",
   "name": "python",
   "nbconvert_exporter": "python",
   "pygments_lexer": "ipython3",
   "version": "3.7.4"
  }
 },
 "nbformat": 4,
 "nbformat_minor": 4
}
