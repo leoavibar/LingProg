{
 "cells": [
  {
   "cell_type": "markdown",
   "metadata": {},
   "source": [
    "# Exercícios de Paradigmas de Linguagens de Programação\n",
    "\n",
    "### ***Desvio Condicional***\n",
    "\n",
    "1 Faça um Programa que peça dois números e imprima o maior deles."
   ]
  },
  {
   "cell_type": "code",
   "execution_count": 1,
   "metadata": {},
   "outputs": [
    {
     "name": "stdin",
     "output_type": "stream",
     "text": [
      "Insira um número:  120\n",
      "Insira outro número:  21\n"
     ]
    },
    {
     "name": "stdout",
     "output_type": "stream",
     "text": [
      "O maior número é 120\n"
     ]
    }
   ],
   "source": [
    "n1 = int(input('Insira um número: '))\n",
    "n2 = int(input('Insira outro número: '))\n",
    "if n1 > n2:\n",
    "    print('O maior número é', n1)\n",
    "else:\n",
    "    print('O maior número é', n2)"
   ]
  },
  {
   "cell_type": "markdown",
   "metadata": {},
   "source": [
    "2 Faça um Programa que verifique se uma letra digitada é vogal ou consoante."
   ]
  },
  {
   "cell_type": "code",
   "execution_count": 2,
   "metadata": {},
   "outputs": [
    {
     "name": "stdin",
     "output_type": "stream",
     "text": [
      "Digite uma letra:  h\n"
     ]
    },
    {
     "name": "stdout",
     "output_type": "stream",
     "text": [
      "A letra h é uma consoante.\n"
     ]
    }
   ],
   "source": [
    "letra = input('Digite uma letra: ')\n",
    "if letra in ['a', 'e', 'i', 'o', 'u']:\n",
    "    print(f'A letra {letra} é uma vogal.')\n",
    "else:\n",
    "    print(f'A letra {letra} é uma consoante.')"
   ]
  },
  {
   "cell_type": "markdown",
   "metadata": {},
   "source": [
    "3 Faça um programa para a leitura de duas notas parciais de um aluno. O programa   \n",
    "deve calcular a média alcançada por aluno e apresentar:\n",
    "- A mensagem \"Aprovado\", se a média alcançada for maior ou igual a sete;\n",
    "- A mensagem \"Reprovado\", se a média for menor do que sete;\n",
    "- A mensagem \"Aprovado com Distinção\", se a média for igual a dez."
   ]
  },
  {
   "cell_type": "code",
   "execution_count": 3,
   "metadata": {},
   "outputs": [
    {
     "name": "stdin",
     "output_type": "stream",
     "text": [
      "Insira o nome do aluno Leonardo\n",
      "Insira a primeira nota:  3.0\n",
      "Insira a segunda nota:  4.0\n"
     ]
    },
    {
     "name": "stdout",
     "output_type": "stream",
     "text": [
      "A primeira nota foi 3.0 e a segunda foi 4.0\n",
      "O aluno Leonardo foi Reprovado, estude mais!\n"
     ]
    }
   ],
   "source": [
    "n = input('Insira o nome do aluno')\n",
    "n1 = float(input('Insira a primeira nota: '))\n",
    "n2 = float(input('Insira a segunda nota: '))\n",
    "media = (n1 + n2) / 2\n",
    "if media >= 7:\n",
    "    print(f'A primeira nota foi {n1} e a segunda foi {n2}')\n",
    "    print(f'O aluno {n} foi Aprovado, parabéns!')\n",
    "elif media == 10:\n",
    "    print(f'A primeira nota foi {n1} e a segunda foi {n2}')\n",
    "    print(f'O aluno {n} foi Aprovado com Distinção, parabéns e continue assim!')\n",
    "else:\n",
    "    print(f'A primeira nota foi {n1} e a segunda foi {n2}')\n",
    "    print(f'O aluno {n} foi Reprovado, estude mais!')"
   ]
  },
  {
   "cell_type": "markdown",
   "metadata": {},
   "source": [
    "4 Faça um Programa que leia três números e mostre-os em ordem decrescente."
   ]
  },
  {
   "cell_type": "code",
   "execution_count": 4,
   "metadata": {},
   "outputs": [
    {
     "name": "stdin",
     "output_type": "stream",
     "text": [
      "Digite um valor para a Posição 0: 1\n"
     ]
    },
    {
     "name": "stdout",
     "output_type": "stream",
     "text": [
      "Você digitou os valores [1]\n"
     ]
    },
    {
     "name": "stdin",
     "output_type": "stream",
     "text": [
      "Digite um valor para a Posição 1: 2\n"
     ]
    },
    {
     "name": "stdout",
     "output_type": "stream",
     "text": [
      "Você digitou os valores [1, 2]\n"
     ]
    },
    {
     "name": "stdin",
     "output_type": "stream",
     "text": [
      "Digite um valor para a Posição 2: 3\n"
     ]
    },
    {
     "name": "stdout",
     "output_type": "stream",
     "text": [
      "Você digitou os valores [1, 2, 3]\n",
      "A ordem dos numeros da lista em ordem decrescente é:\n",
      "3\n",
      "2\n",
      "1\n"
     ]
    }
   ],
   "source": [
    "lista1 = []\n",
    "for c in range (0, 3):\n",
    "    lista1.append(int(input(f'Digite um valor para a Posição {c}:')))\n",
    "    print(f'Você digitou os valores {lista1}')\n",
    "lista1.sort()\n",
    "print('A ordem dos numeros da lista em ordem decrescente é:')\n",
    "for n in reversed(lista1):\n",
    "    print(n)"
   ]
  },
  {
   "cell_type": "markdown",
   "metadata": {},
   "source": [
    "5 As Organizações Tabajara resolveram dar um aumento de salário aos seus colaboradores e lhe contrataram para desenvolver o programa que calculará os reajustes. Faça um programa que recebe o salário de um colaborador e o reajuste segundo o seguinte critério, baseado no salário atual:\n",
    "\n",
    "- salários até RS 280,00 (incluindo) : aumento de 20%   \n",
    "- salários entre RS 280,00 e RS 700,00 : aumento de 15%   \n",
    "- salários entre RS 700,00 e RS 1500,00 : aumento de 10%   \n",
    "- salários de RS 1500,00 em diante : aumento de 5% \n",
    "\n",
    "Após o aumento ser realizado, informe na tela:\n",
    "\n",
    "- o salário antes do reajuste;\n",
    "- o percentual de aumento aplicado;\n",
    "- o valor do aumento;\n",
    "- o novo salário, após o aumento."
   ]
  },
  {
   "cell_type": "code",
   "execution_count": 5,
   "metadata": {},
   "outputs": [
    {
     "name": "stdin",
     "output_type": "stream",
     "text": [
      "Insira o salário:  2500\n"
     ]
    },
    {
     "name": "stdout",
     "output_type": "stream",
     "text": [
      "Salário antes do reajuste: R$ 2500.0\n",
      "Percentual de aumento aplicado: 5.0%\n",
      "Valor do aumento: R$ 125.0\n",
      "Novo salário: R$ 2625.0\n"
     ]
    }
   ],
   "source": [
    "salario = float(input('Insira o salário: '))\n",
    "if salario <= 280:\n",
    "    percentual = 0.20\n",
    "elif salario > 280 and salario <= 700:\n",
    "    percentual = 0.15\n",
    "elif salario > 700 and salario <= 1500:\n",
    "    percentual = 0.10\n",
    "else:\n",
    "    percentual = 0.05\n",
    "novoSalario = salario + (salario * percentual)\n",
    "\n",
    "print('Salário antes do reajuste: R$', salario)\n",
    "print(f'Percentual de aumento aplicado: {percentual * 100}%')\n",
    "print('Valor do aumento: R$', salario * percentual)\n",
    "print('Novo salário: R$', novoSalario)"
   ]
  },
  {
   "cell_type": "markdown",
   "metadata": {},
   "source": [
    "6 Faça um Programa que leia um número e exiba o dia correspondente da semana.\n",
    "(1-Domingo, 2- Segunda, etc.), se digitar outro valor deve aparecer valor inválido."
   ]
  },
  {
   "cell_type": "code",
   "execution_count": 6,
   "metadata": {},
   "outputs": [
    {
     "name": "stdin",
     "output_type": "stream",
     "text": [
      "Insira o dia da semana:  5\n"
     ]
    },
    {
     "name": "stdout",
     "output_type": "stream",
     "text": [
      "O dia da semana digitado equivale à: Quinta-feira\n"
     ]
    }
   ],
   "source": [
    "lst_semana = {1:'Domingo', 2:'Segunda-feira', 3:'Terça-feira', 4:'Quarta-feira', 5:'Quinta-feira', \n",
    "              6:'Sexta-feira', 7:'Sábado'}\n",
    "dia = int(input(\"Insira o dia da semana: \"))\n",
    "if dia > 0 and dia < 8:\n",
    "    print(\"O dia da semana digitado equivale à: {}\".format(lst_semana[dia]))\n",
    "else:\n",
    "    print(\"Valor inválido\")"
   ]
  },
  {
   "cell_type": "markdown",
   "metadata": {},
   "source": [
    "7 Faça um programa que lê as duas notas parciais obtidas por um aluno numa   \n",
    "disciplina ao longo de um semestre, e calcule a sua média. A atribuição de conceitos   \n",
    "obedece à tabela abaixo:\n",
    "\n",
    "    Média de Aproveitamento Conceito\n",
    "- Entre 9.0 e 10.0 A\n",
    "- Entre 7.5 e 9.0 B\n",
    "- Entre 6.0 e 7.5 C\n",
    "- Entre 4.0 e 6.0 D\n",
    "- Entre 4.0 e zero E\n",
    "\n",
    "O algoritmo deve mostrar na tela as notas, a média, o conceito correspondente e a   \n",
    "mensagem “APROVADO” se o conceito for A, B ou C ou “REPROVADO” se o conceito   \n",
    "for D ou E.   "
   ]
  },
  {
   "cell_type": "code",
   "execution_count": 7,
   "metadata": {},
   "outputs": [
    {
     "name": "stdin",
     "output_type": "stream",
     "text": [
      "Insira a primeira nota:  5.0\n",
      "Insira a segunda nota:  6.0\n"
     ]
    },
    {
     "name": "stdout",
     "output_type": "stream",
     "text": [
      "Nota 1:  5.0\n",
      "Nota 2:  6.0\n",
      "Média:  5.5\n",
      "Conceito:  D\n",
      "REPROVADO\n"
     ]
    }
   ],
   "source": [
    "n1 = float(input('Insira a primeira nota: '))\n",
    "n2 = float(input('Insira a segunda nota: '))\n",
    "media = (n1 + n2) / 2\n",
    "if media >= 9 and media <= 10:\n",
    "    conceito = 'A'\n",
    "elif media >= 7.5 and media < 9:\n",
    "    conceito = 'B'\n",
    "elif media >= 6 and media < 7.5:\n",
    "    conceito = 'C'\n",
    "elif media >= 4 and media < 6:\n",
    "    conceito = 'D'\n",
    "elif media < 4:\n",
    "    conceito = 'E'\n",
    "    \n",
    "print('Nota 1: ', n1)\n",
    "print('Nota 2: ', n2)\n",
    "print('Média: ', media)\n",
    "print('Conceito: ', conceito)\n",
    "if conceito == \"A\" or conceito == \"B\" or conceito == \"C\":\n",
    "    print(\"APROVADO\")\n",
    "else:\n",
    "    print(\"REPROVADO\")"
   ]
  },
  {
   "cell_type": "markdown",
   "metadata": {},
   "source": [
    "8 Faça um Programa que peça os 3 lados de um triângulo. O programa deverá   \n",
    "informar se os valores podem ser um triângulo. Indique, caso os lados formem um   \n",
    "triângulo, se o mesmo é: equilátero, isósceles ou escaleno.   \n",
    "Dicas:\n",
    "- Três lados formam um triângulo quando a soma de quaisquer dois lados for maior\n",
    "que o terceiro;\n",
    "- Triângulo Equilátero: três lados iguais;\n",
    "- Triângulo Isósceles: quaisquer dois lados iguais;\n",
    "- Triângulo Escaleno: três lados diferentes;"
   ]
  },
  {
   "cell_type": "code",
   "execution_count": 8,
   "metadata": {},
   "outputs": [
    {
     "name": "stdin",
     "output_type": "stream",
     "text": [
      "Insira o primeiro lado:  12\n",
      "Insira o segundo lado:  14\n",
      "Insira o terceiro lado:  15\n"
     ]
    },
    {
     "name": "stdout",
     "output_type": "stream",
     "text": [
      "Os lados são 12.0, 14.0 e 15.0!\n",
      "Os valores formam um triângulo escaleno.\n"
     ]
    }
   ],
   "source": [
    "l1 = float(input('Insira o primeiro lado: '))\n",
    "l2 = float(input('Insira o segundo lado: '))\n",
    "l3 = float(input('Insira o terceiro lado: '))\n",
    "print(f'Os lados são {l1}, {l2} e {l3}!')\n",
    "\n",
    "if l1 < l2 + l3 and l2 < l1 + l3 and l3 < l1 + l2:\n",
    "    if l1 == l2 == l3:\n",
    "        print('Os valores formam um triângulo equilátero.')\n",
    "    elif l1 == l2 or l1 == l3 or l2 == l3:\n",
    "        print('Os valores formam um triângulo isósceles.')\n",
    "    else:\n",
    "        print('Os valores formam um triângulo escaleno.')\n",
    "else:\n",
    "    print('Os valores não formam um triangulo.')"
   ]
  },
  {
   "cell_type": "markdown",
   "metadata": {},
   "source": [
    "9 Faça um programa que calcule as raízes de uma equação do segundo grau, na forma ax2 + bx + c.    \n",
    "O programa deverá pedir os valores de a, b e c e fazer as consistências,    \n",
    "informando ao usuário nas seguintes situações:    \n",
    "- Se o usuário informar o valor de A igual a zero, a equação não é do segundo grau e\n",
    "o programa não deve fazer pedir os demais valores, sendo encerrado;\n",
    "- Se o delta calculado for negativo, a equação não possui raizes reais. Informe ao\n",
    "usuário e encerre o programa;\n",
    "- Se o delta calculado for igual a zero a equação possui apenas uma raiz real;\n",
    "informe-a ao usuário;\n",
    "- Se o delta for positivo, a equação possui duas raiz reais; informe-as ao usuário;"
   ]
  },
  {
   "cell_type": "code",
   "execution_count": 9,
   "metadata": {},
   "outputs": [
    {
     "name": "stdin",
     "output_type": "stream",
     "text": [
      "Insira o valor de A:  2\n",
      "Insira o valor de B:  17\n",
      "Insira o valor de C:  -5\n"
     ]
    },
    {
     "name": "stdout",
     "output_type": "stream",
     "text": [
      "A equação é 2.0X2 + 17.0X + -5.0\n",
      "delta = 17.0^2 - 4 * 2.0 * -5.0\n",
      "delta = 329.0\n",
      "x1 = -17.0 + 329.0 ** (1/2) / (2*2.0)\n",
      "x1 = -12.465410713195737\n",
      "x2 = -17.0 + 329.0 ** (1/2) / (2*2.0)\n",
      "x2 = -21.534589286804263\n",
      "A equação possui duas raiz reais: -12.465410713195737 e -21.534589286804263\n"
     ]
    }
   ],
   "source": [
    "a = float(input('Insira o valor de A: '))\n",
    "if a == 0:\n",
    "    print(\"Se o valor de a é 0, não é uma equação do segundo grau, programa encerrado.\")\n",
    "else:\n",
    "    b = float(input('Insira o valor de B: '))\n",
    "    c = float(input('Insira o valor de C: '))\n",
    "    delta = b**2 - 4*a*c\n",
    "    print(f'A equação é {a}X2 + {b}X + {c}')\n",
    "    if delta < 0:\n",
    "        print(f'delta = {b}^2 - 4 * {a} * {c}')\n",
    "        print('delta =',delta)\n",
    "        print(\"A equação não possui raizes reais, programa encerrado\")\n",
    "    elif delta == 0:\n",
    "        x = -b + delta ** (1/2) / (2*a)\n",
    "        print(f'delta = {b}^2 - 4 * {a} * {c}')\n",
    "        print('delta =',delta)\n",
    "        print(f'x = -{b} + {delta} ** (1/2) / (2*{a})')\n",
    "        print('x =',x)\n",
    "        print(\"A equação possui apenas uma raiz real:\", x)\n",
    "    else:\n",
    "        x1 = -b + delta ** (1/2) / (2*a)\n",
    "        x2 = -b - delta ** (1/2) / (2*a)\n",
    "        print(f'delta = {b}^2 - 4 * {a} * {c}')\n",
    "        print('delta =',delta)\n",
    "        print(f'x1 = -{b} + {delta} ** (1/2) / (2*{a})')\n",
    "        print('x1 =',x1)\n",
    "        print(f'x2 = -{b} + {delta} ** (1/2) / (2*{a})')\n",
    "        print('x2 =',x2)\n",
    "        print(f\"A equação possui duas raiz reais: {x1} e {x2}\")"
   ]
  },
  {
   "cell_type": "markdown",
   "metadata": {},
   "source": [
    "10 Faça um Programa para um caixa eletrônico. O programa deverá perguntar ao\n",
    "usuário a valor do saque e depois informar quantas notas de cada valor serão\n",
    "fornecidas. As notas disponíveis serão as de 1, 5, 10, 50 e 100 reais. O valor mínimo é\n",
    "de 10 reais e o máximo de 600 reais. O programa não deve se preocupar com a\n",
    "quantidade de notas existentes na máquina.   \n",
    "- Exemplo 1: Para sacar a quantia de 256 reais, o programa fornece duas notas de\n",
    "100, uma nota de 50, uma nota de 5 e uma nota de 1;\n",
    "- Exemplo 2: Para sacar a quantia de 399 reais, o programa fornece três notas de\n",
    "100, uma nota de 50, quatro notas de 10, uma nota de 5 e quatro notas de 1."
   ]
  },
  {
   "cell_type": "code",
   "execution_count": 10,
   "metadata": {},
   "outputs": [
    {
     "name": "stdin",
     "output_type": "stream",
     "text": [
      "Digite o valor do saque (10 até 600 reais) 400\n"
     ]
    },
    {
     "name": "stdout",
     "output_type": "stream",
     "text": [
      "Total do saque: 400\n",
      "Quantidade de notas de 100: 4\n",
      "Quantidade de notas de 50: 0\n",
      "Quantidade de notas de 10: 0\n",
      "Quantidade de notas de 5: 0\n",
      "Quantidade de notas de 1: 0\n"
     ]
    }
   ],
   "source": [
    "saque = int(input('Digite o valor do saque (10 até 600 reais)'))\n",
    "\n",
    "if saque < 10 or saque > 600:\n",
    "    print('Valor inválido')\n",
    "else:\n",
    "    notas100 = int(saque/100)\n",
    "    resto = int(saque%100)\n",
    "    notas50 = int(resto/50)\n",
    "    resto = int(resto%50)\n",
    "    notas10 = int(resto/10)\n",
    "    resto = int(resto%10)\n",
    "    notas5 = int(resto/5)\n",
    "    resto = int(resto%5)\n",
    "    notas1 = resto\n",
    "    print(\n",
    "        f'Total do saque: {saque}',\n",
    "        f'Quantidade de notas de 100: {notas100}',\n",
    "        f'Quantidade de notas de 50: {notas50}',\n",
    "        f'Quantidade de notas de 10: {notas10}',\n",
    "        f'Quantidade de notas de 5: {notas5}',\n",
    "        f'Quantidade de notas de 1: {notas1}',\n",
    "        sep='\\n'\n",
    "    )"
   ]
  },
  {
   "cell_type": "markdown",
   "metadata": {},
   "source": [
    "11 Faça um programa que faça 5 perguntas para uma pessoa sobre um crime. \n",
    "\n",
    "As perguntas são:\n",
    "- \"Telefonou para a vítima?\" \n",
    "- \"Esteve no local do crime?\" \n",
    "- \"Mora perto da vítima?\" \n",
    "- \"Devia para a vítima?\" \n",
    "- \"Já trabalhou com a vítima?\"\n",
    "\n",
    "O programa deve no final emitir uma classificação sobre a participação da pessoa no crime. Se a pessoa responder positivamente a 2 questões ela deve ser classificada como \"Suspeita\", entre 3 e 4 como \"Cúmplice\" e 5 como \"Assassino\". Caso contrário, ele será classificado como \"Inocente\"."
   ]
  },
  {
   "cell_type": "code",
   "execution_count": 11,
   "metadata": {},
   "outputs": [
    {
     "name": "stdin",
     "output_type": "stream",
     "text": [
      "Telefonou para a vítima? (s/n):  n\n",
      "Esteve no local do crime? (s/n):  s\n",
      "Mora perto da vítima? (s/n):  n\n",
      "Devia para a vítima? (s/n):  n\n",
      "Já trabalhou com a vítima? (s/n):  n\n"
     ]
    },
    {
     "name": "stdout",
     "output_type": "stream",
     "text": [
      "Inocente\n"
     ]
    }
   ],
   "source": [
    "score = 0\n",
    "respostas = [\n",
    "    input(\"Telefonou para a vítima? (s/n): \"),\n",
    "    input(\"Esteve no local do crime? (s/n): \"),\n",
    "    input(\"Mora perto da vítima? (s/n): \"),\n",
    "    input(\"Devia para a vítima? (s/n): \"),\n",
    "    input(\"Já trabalhou com a vítima? (s/n): \")\n",
    "]\n",
    "\n",
    "for resposta in respostas:\n",
    "    if resposta == \"s\":\n",
    "        score += 1\n",
    "        \n",
    "if score == 2:\n",
    "    print(\"Suspeita\")\n",
    "elif score >= 3 and score <= 4:\n",
    "    print(\"Cúmplice\")\n",
    "elif score == 5:\n",
    "    print(\"Assassino\")\n",
    "else:\n",
    "    print(\"Inocente\")"
   ]
  },
  {
   "cell_type": "markdown",
   "metadata": {},
   "source": [
    "12 Uma fruteira está vendendo frutas com a seguinte tabela de preços:\n",
    "\n",
    "                Até 5 Kg        Acima de 5 Kg   \n",
    "    Morango     R$ 2,50 por     Kg R$ 2,20 por Kg   \n",
    "    Maçã        R$ 1,80 por     Kg R$ 1,50 por Kg    \n",
    "\n",
    "Se o cliente comprar mais de 8 Kg em frutas ou o valor total da compra ultrapassar\n",
    "R$ 25,00, receberá ainda um desconto de 10% sobre este total. Escreva um\n",
    "algoritmo para ler a quantidade (em Kg) de morangos e a quantidade (em Kg) de\n",
    "maças adquiridas e escreva o valor a ser pago pelo cliente."
   ]
  },
  {
   "cell_type": "code",
   "execution_count": 12,
   "metadata": {},
   "outputs": [
    {
     "name": "stdin",
     "output_type": "stream",
     "text": [
      "Digite quantos kilos de morango: 12\n",
      "Digite quantos kilos de maçã:  12\n"
     ]
    },
    {
     "name": "stdout",
     "output_type": "stream",
     "text": [
      "Quantidade de Morangos - KG: 12.0 \tPreco: R$ 26.400000000000002 \n",
      "Quantidade de Maçãs    - KG: 12.0 \tPreco: R$ 18.0 \n",
      "Preço total dos dois:  R$ 44.400000000000006 \n",
      "Desconto: 10 % \n",
      "Preço final da compra: R$ 39.96\n"
     ]
    }
   ],
   "source": [
    "#funcao que calcula o valor do preço do morango\n",
    "def preco_morango(kilos):\n",
    "    if(kilos < 5):\n",
    "        return kilos * 2.50\n",
    "    else:\n",
    "        return kilos * 2.20\n",
    "\n",
    "#funcao que calcula o valor do preco da maca\n",
    "def preco_maca(kilos):\n",
    "    if(kilos < 5):\n",
    "        return kilos * 1.80\n",
    "    else:\n",
    "        return kilos * 1.50\n",
    "\n",
    "#funcao que retorna uma soma\n",
    "def soma(morango, maca):\n",
    "    return morango + maca\n",
    "\n",
    "morango = float(input(\"Digite quantos kilos de morango:\"))\n",
    "maca = float(input(\"Digite quantos kilos de maçã: \"))\n",
    "\n",
    "\n",
    "preco_mor = preco_morango(morango)\n",
    "preco_mac = preco_maca(maca)\n",
    "\n",
    "if(soma(morango, maca) >= 8 or soma(preco_mor, preco_mac) >= 25):\n",
    "    desconto = 0.10\n",
    "    preco_fim = soma(preco_mor, preco_mac) * (1 - desconto)\n",
    "else:\n",
    "    desconto = 0.00\n",
    "    preco_fim = soma(preco_mor, preco_mac)\n",
    "\n",
    "print(\n",
    "     f'Quantidade de Morangos - KG: {morango} \\tPreco: R$ {preco_mor} \\n'\n",
    "     + f'Quantidade de Maçãs    - KG: {maca} \\tPreco: R$ {preco_mac} \\n'\n",
    "     + f'Preço total dos dois:  R$ {preco_mac + preco_mor} \\n'\n",
    "     + 'Desconto: %d %% \\n' %(desconto*100)\n",
    "     + 'Preço final da compra: R$ %.2f'%(preco_fim))"
   ]
  },
  {
   "cell_type": "markdown",
   "metadata": {},
   "source": [
    "Loops\n",
    "\n",
    "13 Faça um programa que peça uma nota, entre zero e dez. Mostre uma mensagem\n",
    "caso o valor seja inválido e continue pedindo até que o usuário informe um valor\n",
    "válido."
   ]
  },
  {
   "cell_type": "code",
   "execution_count": 13,
   "metadata": {},
   "outputs": [
    {
     "name": "stdin",
     "output_type": "stream",
     "text": [
      "Digite uma nota de 0 a 10:  6\n"
     ]
    },
    {
     "name": "stdout",
     "output_type": "stream",
     "text": [
      "Nota: 6.0\n"
     ]
    }
   ],
   "source": [
    "nota = float(input(\"Digite uma nota de 0 a 10: \"))\n",
    "\n",
    "while nota > 10 or nota < 0:\n",
    "    print('Valor inválido')\n",
    "    nota = float(input('Digite uma nota de \"0 a 10\": '))\n",
    "\n",
    "print(f'Nota: {nota}')"
   ]
  },
  {
   "cell_type": "markdown",
   "metadata": {},
   "source": [
    "13 Faça um programa que leia e valide as seguintes informações:\n",
    "Nome: maior que 3 caracteres;\n",
    "\n",
    "- Idade: entre 0 e 150;\n",
    "- Salário: maior que zero;\n",
    "- Sexo: &#39;f&#39; ou &#39;m&#39;;\n",
    "- Estado Civil: &#39;s&#39;, &#39;c&#39;, &#39;v&#39;, &#39;d&#39;;"
   ]
  },
  {
   "cell_type": "code",
   "execution_count": 14,
   "metadata": {},
   "outputs": [
    {
     "name": "stdin",
     "output_type": "stream",
     "text": [
      "Insira o nome (maior que três caracteres):  Leonardo\n",
      "Insira a idade (0 - 150):  21\n",
      "Insira o salário (maior que zero):  2500\n",
      "Insira o sexo (f/m):  m\n",
      "Insira o estado civil (s/c/v/d):  c\n"
     ]
    },
    {
     "name": "stdout",
     "output_type": "stream",
     "text": [
      "Nome = Leonardo \n",
      "Idade = 21 \n",
      "Salário = 2500 \n",
      "Sexo = m \n",
      "Estado Civil = c\n"
     ]
    }
   ],
   "source": [
    "nome = input(\"Insira o nome (maior que três caracteres): \")\n",
    "while len(nome) <= 3:\n",
    "    nome = input(\"Insira o nome (maior que três caracteres): \")\n",
    "    \n",
    "idade = int(input(\"Insira a idade (0 - 150): \"))\n",
    "while idade < 0 or idade > 150:\n",
    "    idade = int(input(\"Insira a idade (0 - 150): \"))\n",
    "    \n",
    "salario = int(input(\"Insira o salário (maior que zero): \"))\n",
    "while salario <= 0:\n",
    "    salario = int(input(\"Insira o salário (maior que zero): \"))\n",
    "    \n",
    "sexo = input(\"Insira o sexo (f/m): \")\n",
    "while not (sexo in ['f', 'm']):\n",
    "    sexo = input(\"Insira o sexo (f/m): \")\n",
    "    \n",
    "estadocivil = input(\"Insira o estado civil (s/c/v/d): \")\n",
    "while not (estadocivil in ['s', 'c', 'v', 'd']):\n",
    "    estadocivil = input(\"Insira o estado civil (s/c/v/d): \")\n",
    "\n",
    "print(\n",
    "     f'Nome = {nome} \\n'\n",
    "     + f'Idade = {idade} \\n'\n",
    "     + f'Salário = {salario} \\n'\n",
    "     + f'Sexo = {sexo} \\n'\n",
    "     + f'Estado Civil = {estadocivil}')"
   ]
  },
  {
   "cell_type": "markdown",
   "metadata": {},
   "source": [
    "14 Faça um programa que leia 5 números e informe o maior número."
   ]
  },
  {
   "cell_type": "code",
   "execution_count": 15,
   "metadata": {},
   "outputs": [
    {
     "name": "stdin",
     "output_type": "stream",
     "text": [
      "Digite o 1º numero:  12\n",
      "Digite o 2º numero:  13\n",
      "Digite o 3º numero:  14\n",
      "Digite o 4º numero:  15\n",
      "Digite o 5º numero:  16\n"
     ]
    },
    {
     "name": "stdout",
     "output_type": "stream",
     "text": [
      "Os numeros digitados foram: [12, 13, 14, 15, 16]\n",
      "O maior número foi: 16\n"
     ]
    }
   ],
   "source": [
    "numeros = [int(input(f'Digite o {x+1}º numero: ')) for x in range(5)]\n",
    "\n",
    "print('Os numeros digitados foram:',numeros)\n",
    "print(f'O maior número foi: {max(numeros)}')"
   ]
  },
  {
   "cell_type": "markdown",
   "metadata": {},
   "source": [
    "15 Faça um programa que leia 5 números e informe a soma e a média dos números."
   ]
  },
  {
   "cell_type": "code",
   "execution_count": 16,
   "metadata": {},
   "outputs": [
    {
     "name": "stdin",
     "output_type": "stream",
     "text": [
      "Digite o 1º numero:  12\n",
      "Digite o 2º numero:  13\n",
      "Digite o 3º numero:  14\n",
      "Digite o 4º numero:  15\n",
      "Digite o 5º numero:  16\n"
     ]
    },
    {
     "name": "stdout",
     "output_type": "stream",
     "text": [
      "Os numeros digitados foram: [12, 13, 14, 15, 16]\n",
      "A SOMA dos numeros: 70\n",
      "A MEDIA dos numeros: 14.0\n"
     ]
    }
   ],
   "source": [
    "numeros = [int(input(f'Digite o {x+1}º numero: ')) for x in range(5)]\n",
    "\n",
    "soma = sum(numeros)\n",
    "\n",
    "print('Os numeros digitados foram:',numeros)\n",
    "print('A SOMA dos numeros:', soma)\n",
    "print('A MEDIA dos numeros:', soma / 5)"
   ]
  },
  {
   "cell_type": "markdown",
   "metadata": {},
   "source": [
    "16 Faça um programa que imprima na tela apenas os números ímpares entre 1 e 50."
   ]
  },
  {
   "cell_type": "code",
   "execution_count": 17,
   "metadata": {},
   "outputs": [
    {
     "name": "stdout",
     "output_type": "stream",
     "text": [
      "[1, 3, 5, 7, 9, 11, 13, 15, 17, 19, 21, 23, 25, 27, 29, 31, 33, 35, 37, 39, 41, 43, 45, 47, 49]\n"
     ]
    }
   ],
   "source": [
    "print([x for x in range(1, 51)][::2])"
   ]
  },
  {
   "cell_type": "markdown",
   "metadata": {},
   "source": [
    "17 Desenvolva um gerador de tabuada, capaz de gerar a tabuada de qualquer\n",
    "número inteiro entre 1 a 10. O usuário deve informar de qual numero ele deseja ver\n",
    "a tabuada. A saída deve ser conforme o exemplo abaixo:\n",
    "\n",
    "Tabuada de 5:   \n",
    "5 X 1 = 5   \n",
    "5 X 2 = 10   \n",
    "...   \n",
    "5 X 10 = 50"
   ]
  },
  {
   "cell_type": "code",
   "execution_count": 18,
   "metadata": {},
   "outputs": [
    {
     "name": "stdin",
     "output_type": "stream",
     "text": [
      "Insira o número da tabuada:  6\n"
     ]
    },
    {
     "name": "stdout",
     "output_type": "stream",
     "text": [
      "6 X 1 = 6\n",
      "6 X 2 = 12\n",
      "6 X 3 = 18\n",
      "6 X 4 = 24\n",
      "6 X 5 = 30\n",
      "6 X 6 = 36\n",
      "6 X 7 = 42\n",
      "6 X 8 = 48\n",
      "6 X 9 = 54\n",
      "6 X 10 = 60\n"
     ]
    }
   ],
   "source": [
    "tabuada = int(input(\"Insira o número da tabuada: \"))\n",
    "for mt in range(1, 11):\n",
    "    res = mt*tabuada\n",
    "    print(f\"{tabuada} X {mt} = {res}\")"
   ]
  },
  {
   "cell_type": "markdown",
   "metadata": {},
   "source": [
    "18 A série de Fibonacci é formada pela seqüência 1,1,2,3,5,8,13,21,34,55,... Faça um\n",
    "programa capaz de gerar a série até o n−ésimo termo."
   ]
  },
  {
   "cell_type": "code",
   "execution_count": 19,
   "metadata": {},
   "outputs": [
    {
     "name": "stdin",
     "output_type": "stream",
     "text": [
      "Digite até qual termo a série será gerada: 10\n"
     ]
    },
    {
     "name": "stdout",
     "output_type": "stream",
     "text": [
      "0\n",
      "1\n",
      "1\n",
      "2\n",
      "3\n",
      "5\n",
      "8\n",
      "13\n",
      "21\n",
      "34\n"
     ]
    }
   ],
   "source": [
    "a = 0\n",
    "b = 1\n",
    "nesimo = int(input(\"Digite até qual termo a série será gerada:\"))\n",
    "for i in range(nesimo):\n",
    "    print(a)\n",
    "    aux = b\n",
    "    b = a + b\n",
    "    a = aux"
   ]
  },
  {
   "cell_type": "markdown",
   "metadata": {},
   "source": [
    "19 Faça um programa que calcule o fatorial de um número inteiro fornecido pelo\n",
    "usuário.   \n",
    "Ex.: 5!=5.4.3.2.1=120"
   ]
  },
  {
   "cell_type": "code",
   "execution_count": 20,
   "metadata": {},
   "outputs": [
    {
     "name": "stdin",
     "output_type": "stream",
     "text": [
      "Insira um número:  10\n"
     ]
    },
    {
     "name": "stdout",
     "output_type": "stream",
     "text": [
      "O fatorial de 10 é:\n",
      "10! = [10, 9, 8, 7, 6, 5, 4, 3, 2, 1] = 3628800\n"
     ]
    }
   ],
   "source": [
    "fat_num = int(input(\"Insira um número: \"))\n",
    "fat_numero = fat_num\n",
    "numeros = []\n",
    "fatorial = 1\n",
    "\n",
    "while(fat_num > 0):\n",
    "    numeros.append(fat_num)\n",
    "    fat_num -= 1\n",
    "\n",
    "for n in numeros:\n",
    "    fatorial *= n\n",
    "\n",
    "print(f'O fatorial de {fat_numero} é:')\n",
    "print (f'{fat_numero}! = {numeros} = {fatorial}')"
   ]
  },
  {
   "cell_type": "markdown",
   "metadata": {},
   "source": [
    "20 O Sr. Manoel Joaquim possui uma grande loja de artigos de R$ 1,99, com cerca\n",
    "de 10 caixas. Para agilizar o cálculo de quanto cada cliente deve pagar ele\n",
    "desenvolveu um tabela que contém o número de itens que o cliente comprou e ao\n",
    "lado o valor da conta. Desta forma a atendente do caixa precisa apenas contar\n",
    "quantos itens o cliente está levando e olhar na tabela de preços. Você foi contratado\n",
    "para desenvolver o programa que monta esta tabela de preços, que conterá os\n",
    "preços de 1 até 50 produtos, conforme o exemplo abaixo:\n",
    "\n",
    "Lojas Quase Dois - Tabela de preços   \n",
    "1 - RS 1.99  \n",
    "2 - RS 3.98  \n",
    "...   \n",
    "50 - RS 99.50  "
   ]
  },
  {
   "cell_type": "code",
   "execution_count": 21,
   "metadata": {},
   "outputs": [
    {
     "name": "stdout",
     "output_type": "stream",
     "text": [
      "Lojas Quase Dois - Tabela de preços\n",
      "1 - R$ 1.99\n",
      "2 - R$ 3.98\n",
      "3 - R$ 5.97\n",
      "4 - R$ 7.96\n",
      "5 - R$ 9.95\n",
      "6 - R$ 11.94\n",
      "7 - R$ 13.93\n",
      "8 - R$ 15.92\n",
      "9 - R$ 17.91\n",
      "10 - R$ 19.90\n",
      "11 - R$ 21.89\n",
      "12 - R$ 23.88\n",
      "13 - R$ 25.87\n",
      "14 - R$ 27.86\n",
      "15 - R$ 29.85\n",
      "16 - R$ 31.84\n",
      "17 - R$ 33.83\n",
      "18 - R$ 35.82\n",
      "19 - R$ 37.81\n",
      "20 - R$ 39.80\n",
      "21 - R$ 41.79\n",
      "22 - R$ 43.78\n",
      "23 - R$ 45.77\n",
      "24 - R$ 47.76\n",
      "25 - R$ 49.75\n",
      "26 - R$ 51.74\n",
      "27 - R$ 53.73\n",
      "28 - R$ 55.72\n",
      "29 - R$ 57.71\n",
      "30 - R$ 59.70\n",
      "31 - R$ 61.69\n",
      "32 - R$ 63.68\n",
      "33 - R$ 65.67\n",
      "34 - R$ 67.66\n",
      "35 - R$ 69.65\n",
      "36 - R$ 71.64\n",
      "37 - R$ 73.63\n",
      "38 - R$ 75.62\n",
      "39 - R$ 77.61\n",
      "40 - R$ 79.60\n",
      "41 - R$ 81.59\n",
      "42 - R$ 83.58\n",
      "43 - R$ 85.57\n",
      "44 - R$ 87.56\n",
      "45 - R$ 89.55\n",
      "46 - R$ 91.54\n",
      "47 - R$ 93.53\n",
      "48 - R$ 95.52\n",
      "49 - R$ 97.51\n",
      "50 - R$ 99.50\n"
     ]
    }
   ],
   "source": [
    "print('Lojas Quase Dois - Tabela de preços')\n",
    "for i in range(1, 51):\n",
    "    preco = i * 1.99\n",
    "    print(f'{i} - R$ {preco:.2f}')"
   ]
  },
  {
   "cell_type": "markdown",
   "metadata": {},
   "source": [
    "21 O Sr. Manoel Joaquim acaba de adquirir uma panificadora e pretende implantar\n",
    "a metodologia da tabelinha, que já é um sucesso na sua loja de 1,99. Você foi\n",
    "contratado para desenvolver o programa que monta a tabela de preços de pães, de\n",
    "1 até 50 pães, a partir do preço do pão informado pelo usuário, conforme o exemplo\n",
    "abaixo:\n",
    "\n",
    "Preço do pão: R$ 0.18   \n",
    "Panificadora Pão de Ontem - Tabela de preços   \n",
    "1 - RS 0.18   \n",
    "2 - RS 0.36   \n",
    "...   \n",
    "50 - RS 9.00   "
   ]
  },
  {
   "cell_type": "code",
   "execution_count": 22,
   "metadata": {},
   "outputs": [
    {
     "name": "stdin",
     "output_type": "stream",
     "text": [
      "Preço do pão: R$  0.5\n"
     ]
    },
    {
     "name": "stdout",
     "output_type": "stream",
     "text": [
      "Preço do pão: R$ 0.5\n",
      "Panificadora Pão de Ontem - Tabela de preços \n",
      "1 - R$ 0.50\n",
      "2 - R$ 1.00\n",
      "3 - R$ 1.50\n",
      "4 - R$ 2.00\n",
      "5 - R$ 2.50\n",
      "6 - R$ 3.00\n",
      "7 - R$ 3.50\n",
      "8 - R$ 4.00\n",
      "9 - R$ 4.50\n",
      "10 - R$ 5.00\n",
      "11 - R$ 5.50\n",
      "12 - R$ 6.00\n",
      "13 - R$ 6.50\n",
      "14 - R$ 7.00\n",
      "15 - R$ 7.50\n",
      "16 - R$ 8.00\n",
      "17 - R$ 8.50\n",
      "18 - R$ 9.00\n",
      "19 - R$ 9.50\n",
      "20 - R$ 10.00\n",
      "21 - R$ 10.50\n",
      "22 - R$ 11.00\n",
      "23 - R$ 11.50\n",
      "24 - R$ 12.00\n",
      "25 - R$ 12.50\n",
      "26 - R$ 13.00\n",
      "27 - R$ 13.50\n",
      "28 - R$ 14.00\n",
      "29 - R$ 14.50\n",
      "30 - R$ 15.00\n",
      "31 - R$ 15.50\n",
      "32 - R$ 16.00\n",
      "33 - R$ 16.50\n",
      "34 - R$ 17.00\n",
      "35 - R$ 17.50\n",
      "36 - R$ 18.00\n",
      "37 - R$ 18.50\n",
      "38 - R$ 19.00\n",
      "39 - R$ 19.50\n",
      "40 - R$ 20.00\n",
      "41 - R$ 20.50\n",
      "42 - R$ 21.00\n",
      "43 - R$ 21.50\n",
      "44 - R$ 22.00\n",
      "45 - R$ 22.50\n",
      "46 - R$ 23.00\n",
      "47 - R$ 23.50\n",
      "48 - R$ 24.00\n",
      "49 - R$ 24.50\n",
      "50 - R$ 25.00\n"
     ]
    }
   ],
   "source": [
    "preco_pao = float(input('Preço do pão: R$ '))\n",
    "\n",
    "print('Preço do pão: R$',preco_pao)\n",
    "print('Panificadora Pão de Ontem - Tabela de preços ')\n",
    "for i in range(1, 51):\n",
    "    preco = i * preco_pao\n",
    "    print(f'{i} - R$ {preco:.2f}')"
   ]
  },
  {
   "cell_type": "markdown",
   "metadata": {},
   "source": [
    "22 O Sr. Manoel Joaquim expandiu seus negócios para além dos negócios de 1,99 e\n",
    "agora possui uma loja de conveniências. Faça um programa que implemente uma\n",
    "caixa registradora rudimentar. O programa deverá receber um número\n",
    "desconhecido de valores referentes aos preços das mercadorias. Um valor zero deve\n",
    "ser informado pelo operador para indicar o final da compra. O programa deve então\n",
    "mostrar o total da compra e perguntar o valor em dinheiro que o cliente forneceu,\n",
    "para então calcular e mostrar o valor do troco. Após esta operação, o programa\n",
    "deverá voltar ao ponto inicial, para registrar a próxima compra. A saída deve ser\n",
    "conforme o exemplo abaixo:\n",
    "\n",
    "Lojas Tabajara    \n",
    "Produto 1: RS 2.20    \n",
    "Produto 2: RS 5.80    \n",
    "Produto 3: RS 0    \n",
    "Total: RS 9.00    \n",
    "Dinheiro: RS 20.00    \n",
    "Troco: RS 11.00   \n",
    "..."
   ]
  },
  {
   "cell_type": "code",
   "execution_count": 23,
   "metadata": {},
   "outputs": [
    {
     "name": "stdout",
     "output_type": "stream",
     "text": [
      "Lojas Tabajara\n"
     ]
    },
    {
     "name": "stdin",
     "output_type": "stream",
     "text": [
      "Insira o preço do item (Digite '0' para finalizar a compra):  12\n"
     ]
    },
    {
     "name": "stdout",
     "output_type": "stream",
     "text": [
      "Produto 1: R$ 12.0\n"
     ]
    },
    {
     "name": "stdin",
     "output_type": "stream",
     "text": [
      "Insira o preço do item (Digite '0' para finalizar a compra):  1\n"
     ]
    },
    {
     "name": "stdout",
     "output_type": "stream",
     "text": [
      "Produto 2: R$ 1.0\n"
     ]
    },
    {
     "name": "stdin",
     "output_type": "stream",
     "text": [
      "Insira o preço do item (Digite '0' para finalizar a compra):  15.5\n"
     ]
    },
    {
     "name": "stdout",
     "output_type": "stream",
     "text": [
      "Produto 3: R$ 15.5\n"
     ]
    },
    {
     "name": "stdin",
     "output_type": "stream",
     "text": [
      "Insira o preço do item (Digite '0' para finalizar a compra):  0\n"
     ]
    },
    {
     "name": "stdout",
     "output_type": "stream",
     "text": [
      "Total: R$ 28.5\n"
     ]
    },
    {
     "name": "stdin",
     "output_type": "stream",
     "text": [
      "Insira o valor a ser pago:  50\n"
     ]
    },
    {
     "name": "stdout",
     "output_type": "stream",
     "text": [
      "Dinheiro: R$ 50.0\n",
      "Troco: R$ 21.5\n"
     ]
    }
   ],
   "source": [
    "print('Lojas Tabajara')\n",
    "\n",
    "total = 0\n",
    "preco = -1\n",
    "i = 0\n",
    "\n",
    "while preco != 0:\n",
    "    preco = float(input(\"Insira o preço do item (Digite '0' para finalizar a compra): \"))\n",
    "    total += preco\n",
    "    i += 1\n",
    "    if preco == 0:\n",
    "        print(f'Total: R$ {total}')\n",
    "        pago = float(input(\"Insira o valor a ser pago: \"))\n",
    "        print(f'Dinheiro: R$ {pago}')\n",
    "        print('Troco: R$', pago - total)\n",
    "    else:\n",
    "        print(f'Produto {i}: R$ {preco}')"
   ]
  },
  {
   "cell_type": "markdown",
   "metadata": {},
   "source": [
    "23 Foi feita uma estatística em cinco cidades brasileiras para coletar dados sobre\n",
    "acidentes de trânsito. Foram obtidos os seguintes dados:\n",
    "- Código da cidade;\n",
    "- Número de veículos de passeio (em 1999);\n",
    "- Número de acidentes de trânsito com vítimas (em 1999). Deseja-se saber:\n",
    "- Qual o maior e menor índice de acidentes de transito e a que cidade pertence;\n",
    "- Qual a média de veículos nas cinco cidades juntas;\n",
    "- Qual a média de acidentes de trânsito nas cidades com menos de 2.000 veículos de\n",
    "passeio."
   ]
  },
  {
   "cell_type": "code",
   "execution_count": 24,
   "metadata": {},
   "outputs": [
    {
     "name": "stdin",
     "output_type": "stream",
     "text": [
      "\n",
      "Digite o nome da cidade.....................:  a\n",
      "Digite o código da cidade...................:  1\n",
      "Numero de veiculos de passeio...............:  4000\n",
      "Numero de acidentes de transito com vitimas.:  120\n",
      "\n",
      "Digite o nome da cidade.....................:  b\n",
      "Digite o código da cidade...................:  2\n",
      "Numero de veiculos de passeio...............:  1245\n",
      "Numero de acidentes de transito com vitimas.:  1200\n",
      "\n",
      "Digite o nome da cidade.....................:  c\n",
      "Digite o código da cidade...................:  3\n",
      "Numero de veiculos de passeio...............:  123\n",
      "Numero de acidentes de transito com vitimas.:  5\n",
      "\n",
      "Digite o nome da cidade.....................:  d\n",
      "Digite o código da cidade...................:  4\n",
      "Numero de veiculos de passeio...............:  12345\n",
      "Numero de acidentes de transito com vitimas.:  123\n",
      "\n",
      "Digite o nome da cidade.....................:  e\n",
      "Digite o código da cidade...................:  5\n",
      "Numero de veiculos de passeio...............:  12\n",
      "Numero de acidentes de transito com vitimas.:  1\n"
     ]
    },
    {
     "name": "stdout",
     "output_type": "stream",
     "text": [
      "=-=-=-=-=-=-=-=-=-=-=-=-=-=-=-=-=-=-=-=-=-=-=-=-=-=-=-=-=-=-\n",
      "A cidade com o menor indice de acidentes de transito foi e, com 1 acidentes \n",
      "=-=-=-=-=-=-=-=-=-=-=-=-=-=-=-=-=-=-=-=-=-=-=-=-=-=-=-=-=-=-\n",
      "A cidade com o maior indice de acidentes de transito foi b, com 1200 acidentes \n",
      "=-=-=-=-=-=-=-=-=-=-=-=-=-=-=-=-=-=-=-=-=-=-=-=-=-=-=-=-=-=-\n",
      "Media de veiculos nas cincos cidades é 3545.0\n",
      "=-=-=-=-=-=-=-=-=-=-=-=-=-=-=-=-=-=-=-=-=-=-=-=-=-=-=-=-=-=-\n",
      "Media de acidentes de transitos nas cidades com menos de 2000 é 402.0\n"
     ]
    }
   ],
   "source": [
    "maior = menor = count = soma_veiculos = soma_acidentes = soma_2k = 0\n",
    "cid_maior = cid_menor = ''\n",
    "\n",
    "for c in range(1,6):\n",
    "    cidade      = input(\"\\nDigite o nome da cidade.....................: \")\n",
    "    codigo      = int(input(\"Digite o código da cidade...................: \"))\n",
    "    veiculos    = int(input(\"Numero de veiculos de passeio...............: \"))\n",
    "    acidentes   = int(input(\"Numero de acidentes de transito com vitimas.: \"))\n",
    "\n",
    "    soma_veiculos += veiculos\n",
    "    soma_acidentes += acidentes\n",
    "\n",
    "    if acidentes > maior:\n",
    "        maior = acidentes\n",
    "        cid_maior = cidade\n",
    "\n",
    "    if acidentes < menor or c == 1:\n",
    "        menor = acidentes\n",
    "        cid_menor = cidade\n",
    "\n",
    "    if veiculos < 2000:\n",
    "        soma_2k += acidentes\n",
    "        count += 1\n",
    "        \n",
    "media_nas_5_cidades = soma_veiculos / c\n",
    "media_2k = soma_2k / count\n",
    "\n",
    "print(30 * '=-' + '\\n'\n",
    "    + f'A cidade com o menor indice de acidentes de transito foi {cid_menor}, com {menor} acidentes \\n'\n",
    "    + 30 * '=-' + '\\n'\n",
    "    + f'A cidade com o maior indice de acidentes de transito foi {cid_maior}, com {maior} acidentes \\n'\n",
    "    + 30 * '=-' + '\\n'\n",
    "    + f'Media de veiculos nas cincos cidades é {media_nas_5_cidades}\\n'\n",
    "    + 30 * '=-' + '\\n'\n",
    "    + f'Media de acidentes de transitos nas cidades com menos de 2000 é {media_2k}')"
   ]
  },
  {
   "cell_type": "markdown",
   "metadata": {},
   "source": [
    "24 Faça um programa que receba o valor de uma dívida e mostre uma tabela com\n",
    "os seguintes dados: valor da dívida, valor dos juros, quantidade de parcelas e valor\n",
    "da parcela.\n",
    "\n",
    "Os juros e a quantidade de parcelas seguem a tabela abaixo:    \n",
    "Quantidade de Parcelas % de Juros sobre o valor inicial da dívida    \n",
    "1 0   \n",
    "3 10   \n",
    "6 15   \n",
    "9 20   \n",
    "12 25   \n",
    "\n",
    "Exemplo de saída do programa:   \n",
    "Valor da Dívida Valor dos Juros Quantidade de Parcelas Valor da Parcela    \n",
    "RS 1.000,00 0 1 RS 1.000,00   \n",
    "RS 1.100,00 100 3 RS 366,00   \n",
    "RS 1.150,00 150 6 RS 191,67   "
   ]
  },
  {
   "cell_type": "code",
   "execution_count": 25,
   "metadata": {},
   "outputs": [
    {
     "name": "stdin",
     "output_type": "stream",
     "text": [
      "Digite o valor da divida:  1200\n"
     ]
    },
    {
     "name": "stdout",
     "output_type": "stream",
     "text": [
      "Valor da Dívida\tValor dos Juros\tQuantidade de Parcelas\tValor da Parcela\n",
      "R$ 1200,00\t0\t\t1\t\t\tR$ 1200,00\n",
      "R$ 1320,00\t10\t\t3\t\t\tR$ 440,00\n",
      "R$ 1380,00\t15\t\t6\t\t\tR$ 230,00\n",
      "R$ 1440,00\t20\t\t9\t\t\tR$ 160,00\n",
      "R$ 1500,00\t25\t\t12\t\t\tR$ 125,00\n"
     ]
    }
   ],
   "source": [
    "import locale\n",
    "locale.setlocale(locale.LC_ALL, 'pt_BR.UTF-8')\n",
    "\n",
    "valor_divida = float(input(\"Digite o valor da divida: \"))\n",
    "\n",
    "dados = [\n",
    "    [1, 0],\n",
    "    [3, 10],\n",
    "    [6, 15],\n",
    "    [9, 20],\n",
    "    [12, 25]\n",
    "]\n",
    "\n",
    "print('Valor da Dívida', 'Valor dos Juros', 'Quantidade de Parcelas', 'Valor da Parcela', sep=\"\\t\")\n",
    "\n",
    "for dado in dados:\n",
    "    valor_com_juros = valor_divida * (1+dado[1]/100)\n",
    "    print(f'{locale.currency(valor_com_juros)}\\t{dado[1]}\\t\\t{dado[0]}\\t\\t\\t{locale.currency(valor_com_juros/dado[0])}')"
   ]
  },
  {
   "cell_type": "markdown",
   "metadata": {},
   "source": [
    "25 Faça um programa que mostre os n termos da Série a seguir:\n",
    "\n",
    "    S = 1/1 + 2/3 + 3/5 + 4/7 + 5/9 + ... + n/m.\n",
    "\n",
    "Imprima no final a soma da série."
   ]
  },
  {
   "cell_type": "code",
   "execution_count": 26,
   "metadata": {},
   "outputs": [
    {
     "name": "stdin",
     "output_type": "stream",
     "text": [
      "Insira a quantidade de termos desejada:  10\n"
     ]
    },
    {
     "name": "stdout",
     "output_type": "stream",
     "text": [
      "S = 1/1 + 2/3 + 3/5 + 4/7 + 5/9 + 6/11 + 7/13 + 8/15 + 9/17 + 10/19\n",
      "Soma da série: 6.066627765079777\n"
     ]
    }
   ],
   "source": [
    "termo = int(input('Insira a quantidade de termos desejada: '))\n",
    "\n",
    "somaStr = \"S = \"\n",
    "s = 0\n",
    "m = 1\n",
    "for n in range(1, termo + 1):\n",
    "    s += n / m\n",
    "    somaStr += str(n) + \"/\" + str(m)\n",
    "    if n != termo:\n",
    "        somaStr += \" + \"\n",
    "    m += 2\n",
    "\n",
    "print(somaStr)\n",
    "print('Soma da série: %s' % s)"
   ]
  },
  {
   "cell_type": "code",
   "execution_count": null,
   "metadata": {},
   "outputs": [],
   "source": []
  }
 ],
 "metadata": {
  "kernelspec": {
   "display_name": "Python 3",
   "language": "python",
   "name": "python3"
  },
  "language_info": {
   "codemirror_mode": {
    "name": "ipython",
    "version": 3
   },
   "file_extension": ".py",
   "mimetype": "text/x-python",
   "name": "python",
   "nbconvert_exporter": "python",
   "pygments_lexer": "ipython3",
   "version": "3.7.4"
  }
 },
 "nbformat": 4,
 "nbformat_minor": 4
}
