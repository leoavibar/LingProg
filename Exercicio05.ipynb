{
 "cells": [
  {
   "cell_type": "markdown",
   "metadata": {},
   "source": [
    "Exercícios de Paradigmas de Linguagens de Programação\n",
    "\n",
    "**1 Linha**: Crie a classe Linha que tem dois atributos, coordenada1 e coordenada2.\n",
    "Cada coordenada é uma tupla que carrega duas coordenadas cartesianas (x,y) que\n",
    "denotam pontos do segmento de reta. Faça métodos que calculem o comprimento\n",
    "do segmento de reta e sua inclinação."
   ]
  },
  {
   "cell_type": "code",
   "execution_count": 15,
   "metadata": {},
   "outputs": [
    {
     "name": "stdin",
     "output_type": "stream",
     "text": [
      "Coloque o x da coordenada 1: 2\n",
      "Coloque o y da coordenada 2: 4\n",
      "Coloque o x da coordenada 1: 2\n",
      "Coloque o y da coordenada 2: 6\n"
     ]
    },
    {
     "name": "stdout",
     "output_type": "stream",
     "text": [
      "=-=-=-=-=-=-=-=-=-=-=-=-=-=-=-=-=-=-=-=-=-=-=-=-=-=-=-=-=-=-\n",
      "Coordenada 1 (x = 2) e (y = 4)\n",
      "Coordenada 2 (x = 2) e (y = 6)\n",
      "=-=-=-=-=-=-=-=-=-=-=-=-=-=-=-=-=-=-=-=-=-=-=-=-=-=-=-=-=-=-\n",
      "comprimento = (2 - 4)*2 + (2 - 6)*2 / 2\n",
      "comprimento é: 4.47213595499958\n",
      "=-=-=-=-=-=-=-=-=-=-=-=-=-=-=-=-=-=-=-=-=-=-=-=-=-=-=-=-=-=-\n",
      "inclinacao = (2 - 6)/(2 - 4)\n",
      "inclinacao é: 2.0\n"
     ]
    }
   ],
   "source": [
    "from math import sqrt as m\n",
    "\n",
    "p1 = int(input('Coloque o x da coordenada 1:'))\n",
    "p2 = int(input('Coloque o y da coordenada 1:'))\n",
    "P1 = int(input('Coloque o x da coordenada 2:'))\n",
    "P2 = int(input('Coloque o y da coordenada 2:'))\n",
    "\n",
    "class Linha:\n",
    "    def __init__(self,cord1,cord2):\n",
    "        self.cord1 = cord1\n",
    "        self.cord2 = cord2\n",
    "    \n",
    "    def calculaComprimento(self,cord1,cord2):\n",
    "        a,b = cord1\n",
    "        c,d = cord2\n",
    "        return m(((b - a)**2) + ((d - c)**2))\n",
    "    \n",
    "    def calculaInclinacao(self,cord1,cord2):\n",
    "        a,b = cord1\n",
    "        c,d = cord2\n",
    "        return ((d - c)/(b - a))\n",
    "    \n",
    "t1 = (p1, p2)\n",
    "t2 = (P1, P2)\n",
    "l = Linha(t1,t2)\n",
    "print('=-' * 30)\n",
    "print(f'Coordenada 1 (x = {p1}) e (y = {p2})')\n",
    "print(f'Coordenada 2 (x = {P1}) e (y = {P2})')\n",
    "print('=-' * 30)\n",
    "print(f'comprimento = ({p1} - {p2})*2 + ({P1} - {P2})*2 / 2' )\n",
    "print('comprimento é: ' + str(l.calculaComprimento(t1,t2)))\n",
    "print('=-' * 30)\n",
    "print(f'inclinacao = ({P1} - {P2})/({p1} - {p2})')\n",
    "print('inclinacao é: ' + str(l.calculaInclinacao(t1,t2)))"
   ]
  },
  {
   "cell_type": "markdown",
   "metadata": {},
   "source": [
    "**2 Figuras**: Crie a seguinte hierarquia de classes de figuras geométricas.\n",
    "- a. A classe abstrata Figura deve ter o método abstrato area.   \n",
    "- b. A classe concreta Circulo é subclasse de Figura.    \n",
    "- c. A classe abstrata Poligono é subclasse de Figura e deve ter os\n",
    "atributos base e altura .\n",
    "- d. As classes concretas Triangulo, Losango, Retangulo e Quadrado são\n",
    "subclasses de Poligono. Tente criar mais uma generalização aqui olhando as fórmulas\n",
    "da área.\n",
    "- e. Os polígonos Retangulo e Quadrado devem implementar a interface\n",
    "Diagonal, que deve ter um método que calcula a diagonal.\n",
    "- f. Crie uma classe Geometria com uma lista de Figuras com pelo menos\n",
    "uma figura de cada e imprima suas áreas, perímetros e diagonais."
   ]
  },
  {
   "cell_type": "code",
   "execution_count": 1,
   "metadata": {},
   "outputs": [
    {
     "name": "stdin",
     "output_type": "stream",
     "text": [
      "Coloque o raio do circulo: 4\n",
      "Coloque a base do triangulo: 5\n",
      "Coloque a altura do triangulo: 8\n",
      "Coloque a base do losango: 5\n",
      "Coloque a altura do losango: 6\n",
      "Coloque a base do retangulo: 7\n",
      "Coloque a altura do retangulo: 5\n",
      "Coloque o lado do quadrado: 2\n"
     ]
    },
    {
     "name": "stdout",
     "output_type": "stream",
     "text": [
      "=-=-=-=-=-=-=-=-=-=-=-=-=-=-=-=-=-=-=-=-=-=-=-=-=-=-=-=-=-=-\n",
      "Figura: Circulo \n",
      "Area: 50.26548245743669\n",
      "\n",
      "Figura: Triangulo \n",
      "Area: 20.0\n",
      "\n",
      "Figura: Losango \n",
      "Area: 15.0\n",
      "\n",
      "Figura: Retangulo \n",
      "Area: 35.0\n",
      "\n",
      "Figura: Quadrado \n",
      "Area: 4.0\n",
      "\n"
     ]
    }
   ],
   "source": [
    "import math\n",
    "\n",
    "class Figura:\n",
    "    \n",
    "    def area(self):\n",
    "        raise NotImplementedError(\"Método abstrato que deve ser implementado por uma classe filha\")\n",
    "        \n",
    "class Circulo(Figura):\n",
    "    \n",
    "    def __init__(self, raio):\n",
    "        self.raio = raio\n",
    "    \n",
    "    def area(self):\n",
    "        return math.pi * (self.raio**2)\n",
    "    \n",
    "class Poligono(Figura):\n",
    "    \n",
    "    def __init__(self, base, altura):\n",
    "        self.base = base\n",
    "        self.altura = altura        \n",
    "    \n",
    "        \n",
    "class Triangulo(Poligono):\n",
    "    \n",
    "    def area(self):\n",
    "        return (self.base * self.altura) / 2\n",
    "\n",
    "class Losango(Poligono):\n",
    "    \n",
    "    def area(self):\n",
    "        return (self.base * self.altura) / 2\n",
    "    \n",
    "class Diagonal:\n",
    "    \n",
    "    def diagonal(self, base, altura):\n",
    "        return (base**2 + altura**2)**(1/2)\n",
    "    \n",
    "\n",
    "class Retangulo(Poligono):\n",
    "    \n",
    "    diagonal = Diagonal()\n",
    "        \n",
    "    def diagonal(self):\n",
    "        return self.diagonal.diagonal(self.base, self.altura)\n",
    "    \n",
    "    def area(self):\n",
    "        return self.base * self.altura\n",
    "\n",
    "class Quadrado(Retangulo):\n",
    "    def __init__(self, lado):\n",
    "        Retangulo.__init__(self, lado, lado)\n",
    "\n",
    "raioC = float(input('Coloque o raio do circulo:'))\n",
    "baseT = float(input('Coloque a base do triangulo:'))\n",
    "alturaT = float(input('Coloque a altura do triangulo:'))\n",
    "baseL = float(input('Coloque a base do losango:'))\n",
    "alturaL = float(input('Coloque a altura do losango:'))\n",
    "baseR = float(input('Coloque a base do retangulo:'))\n",
    "alturaR = float(input('Coloque a altura do retangulo:'))\n",
    "ladoQ = float(input('Coloque o lado do quadrado:'))\n",
    "print('=-' * 30)\n",
    "        \n",
    "class Geometria:\n",
    "    \n",
    "    def __init__(self, figuras):\n",
    "        self.lista = [x for x in figuras]\n",
    "        \n",
    "geometria = Geometria([    \n",
    "    Circulo(raioC),\n",
    "    Triangulo(baseT, alturaT),\n",
    "    Losango(baseL, alturaL),\n",
    "    Retangulo(baseR, alturaR),\n",
    "    Quadrado(ladoQ)\n",
    "])\n",
    "\n",
    "\n",
    "for x in geometria.lista:\n",
    "    print(f'Figura: {type(x).__name__} \\nArea: {x.area()}\\n')"
   ]
  },
  {
   "cell_type": "markdown",
   "metadata": {},
   "source": [
    "**3 Jogo de Blackjack**: Faça um joguinho simples em Python.\n",
    "Aqui estão os requisitos:\n",
    "- Você precisa criar um jogo de BlackJack (21) baseado em texto simples\n",
    "- O jogo precisa ter um jogador contra um croupier automatizado.\n",
    "- O jogador pode desistir ou bater.\n",
    "- O jogador deve ser capaz de escolher o seu valor de aposta.\n",
    "- Você precisa acompanhar o dinheiro total do jogador.\n",
    "- Você precisa alertar o jogador de vitórias, derrotas ou estouros, etc ...\n",
    "E o mais importante:\n",
    "Você deve usar OOP e classes em alguma parte do seu jogo. Você não pode\n",
    "simplesmente usar funções no seu jogo. Use classes para ajudá-lo a definir o deck e a\n",
    "mão do jogador. Há muitas maneiras certas de fazer isso, então explore bem!"
   ]
  },
  {
   "cell_type": "code",
   "execution_count": 2,
   "metadata": {},
   "outputs": [
    {
     "name": "stdin",
     "output_type": "stream",
     "text": [
      "Digite a quantidade total de dinheiro:  250\n",
      "Digite o valor da aposta:  10\n"
     ]
    },
    {
     "name": "stdout",
     "output_type": "stream",
     "text": [
      "O Coupier tem a seguinte carta: ['10', 'espadas']\n",
      "Suas cartas são: [['K', 'copas'], ['2', 'copas']]\n"
     ]
    },
    {
     "name": "stdin",
     "output_type": "stream",
     "text": [
      "\n",
      "O que deseja fazer?,\n",
      "0 - Permanecer do modo que está,\n",
      "1 - Pedir mais uma carta\n",
      "2 - Desistir\n",
      " 0\n"
     ]
    },
    {
     "name": "stdout",
     "output_type": "stream",
     "text": [
      "\n",
      "Mão completa do Coupier: [['10', 'espadas'], ['6', 'copas']]\n",
      "Você perdeu, o dealer tinha 16 pontos e você tinha 12 pontos\n",
      "\n",
      "Dinheiro atual: R$240.0\n"
     ]
    },
    {
     "name": "stdin",
     "output_type": "stream",
     "text": [
      "\n",
      "O que deseja fazer?\n",
      "1 - Jogar mais uma\n",
      "2- Colocar mais dinheiro\n",
      "0 - Sair\n",
      " 2\n",
      "Digite o valor que deseja acrescentar:  100\n"
     ]
    },
    {
     "name": "stdout",
     "output_type": "stream",
     "text": [
      "\n",
      "Dinheiro atual: R$340.0\n"
     ]
    },
    {
     "name": "stdin",
     "output_type": "stream",
     "text": [
      "\n",
      "O que deseja fazer?\n",
      "1 - Jogar mais uma\n",
      "2- Colocar mais dinheiro\n",
      "0 - Sair\n",
      " 1\n",
      "Digite o valor da aposta:  100\n"
     ]
    },
    {
     "name": "stdout",
     "output_type": "stream",
     "text": [
      "O Coupier tem a seguinte carta: ['3', 'paus']\n",
      "Suas cartas são: [['6', 'ouros'], ['Q', 'paus']]\n"
     ]
    },
    {
     "name": "stdin",
     "output_type": "stream",
     "text": [
      "\n",
      "O que deseja fazer?,\n",
      "0 - Permanecer do modo que está,\n",
      "1 - Pedir mais uma carta\n",
      "2 - Desistir\n",
      " 1\n"
     ]
    },
    {
     "name": "stdout",
     "output_type": "stream",
     "text": [
      "\n",
      "Sua mão: [['6', 'ouros'], ['Q', 'paus'], ['5', 'espadas']]\n",
      "Pontuação: 21\n"
     ]
    },
    {
     "name": "stdin",
     "output_type": "stream",
     "text": [
      "\n",
      "O que deseja fazer?,\n",
      "0 - Permanecer do modo que está,\n",
      "1 - Pedir mais uma carta\n",
      "2 - Desistir\n",
      " 0\n"
     ]
    },
    {
     "name": "stdout",
     "output_type": "stream",
     "text": [
      "\n",
      "Mão completa do Coupier: [['3', 'paus'], ['10', 'espadas']]\n",
      "Você ganhou! O dealer tinha 13 pontos e você tinha 21 pontos\n",
      "\n",
      "Dinheiro atual: R$440.0\n"
     ]
    },
    {
     "name": "stdin",
     "output_type": "stream",
     "text": [
      "\n",
      "O que deseja fazer?\n",
      "1 - Jogar mais uma\n",
      "2- Colocar mais dinheiro\n",
      "0 - Sair\n",
      " 0\n"
     ]
    },
    {
     "name": "stdout",
     "output_type": "stream",
     "text": [
      "Você começou com R$250.0 e terminou com R$440.0, sendo assim seu lucro foi de R$190.0\n"
     ]
    }
   ],
   "source": [
    "import random\n",
    "\n",
    "class Deck:\n",
    "    \n",
    "    def __init__(self):\n",
    "        valores = ['A', '2', '3', '4', '5', '6', '7', '8', '9', '10', 'J', 'Q', 'K']\n",
    "        naipes = ['paus', 'copas', 'ouros', 'espadas']\n",
    "        self.cartas = [[y, x] for x in naipes for y in valores]\n",
    "        random.shuffle(self.cartas) \n",
    "        \n",
    "    def pop_carta(self):\n",
    "        return self.cartas.pop()\n",
    "\n",
    "class MaoJogador:\n",
    "    \n",
    "    def __init__(self):\n",
    "        self.cartas = []\n",
    "        \n",
    "    def adicionar_carta(self, carta):\n",
    "        return self.cartas.append(carta)\n",
    "    \n",
    "    def get_cartas(self):\n",
    "        return self.cartas\n",
    "    \n",
    "    def calcular_pontos(self):\n",
    "        valor_das_cartas_da_mao = []\n",
    "        for i, carta in enumerate(self.cartas):\n",
    "            valor = carta[0]\n",
    "            if valor == 'A':\n",
    "                valor = 11\n",
    "            elif valor in 'JQK':\n",
    "                valor = 10\n",
    "            valor_das_cartas_da_mao.append(int(valor))\n",
    "        valor_total = sum(valor_das_cartas_da_mao)\n",
    "        if valor_total > 21:\n",
    "            for i, carta in enumerate(self.cartas):\n",
    "                if carta == 'A':\n",
    "                    valor_das_cartas_da_mao[i] = 1\n",
    "        return sum(valor_das_cartas_da_mao)\n",
    "            \n",
    "\n",
    "resposta = -1\n",
    "dinheiro = float(input('Digite a quantidade total de dinheiro: '))\n",
    "dinheiro_inicial = dinheiro\n",
    "opcao = 1\n",
    "while opcao != 0 and dinheiro > 0:\n",
    "    if opcao == 1:\n",
    "        aposta = float(input('Digite o valor da aposta: '))\n",
    "        while aposta > dinheiro:\n",
    "            aposta = float(input('Digite um valor de aposta menor ou igual ao seu dinheiro: '))\n",
    "            \n",
    "        deck = Deck()\n",
    "        dealer_hand = MaoJogador()\n",
    "        mao_jogador = MaoJogador()\n",
    "        \n",
    "        for i in range(2):\n",
    "            dealer_hand.adicionar_carta(deck.pop_carta())\n",
    "            mao_jogador.adicionar_carta(deck.pop_carta())\n",
    "            \n",
    "        print(f'O Coupier tem a seguinte carta: {dealer_hand.get_cartas()[0]}')\n",
    "        print(f'Suas cartas são: {mao_jogador.get_cartas()}')\n",
    "        while opcao == 1:            \n",
    "            opcao = int(input('\\nO que deseja fazer?,\\n0 - Permanecer do modo que está,\\n1 - Pedir mais uma carta\\n2 - Desistir\\n'))\n",
    "            if opcao == 0:\n",
    "                print(f'\\nMão completa do Coupier: {dealer_hand.get_cartas()}')\n",
    "                dealer_hand_pontos = dealer_hand.calcular_pontos()\n",
    "                mao_jogador_pontos = mao_jogador.calcular_pontos()\n",
    "                if mao_jogador_pontos < dealer_hand_pontos:\n",
    "                    mensagem = 'Você perdeu, o'\n",
    "                    dinheiro -= aposta\n",
    "                elif mao_jogador_pontos > dealer_hand_pontos:\n",
    "                    mensagem = 'Você ganhou! O'\n",
    "                    dinheiro += aposta\n",
    "                else:\n",
    "                    mensagem = 'Empate. O'\n",
    "                print(mensagem, f'dealer tinha {dealer_hand_pontos} pontos e você tinha {mao_jogador_pontos} pontos')\n",
    "            elif opcao == 1:\n",
    "              mao_jogador.adicionar_carta(deck.pop_carta())\n",
    "              pontuacao = mao_jogador.calcular_pontos()\n",
    "              print(f'\\nSua mão: {mao_jogador.get_cartas()}')\n",
    "              print(f'Pontuação: {pontuacao}')\n",
    "              if pontuacao > 21:\n",
    "                print(f'Voce estourou com {pontuacao} pontos')\n",
    "                dinheiro -= aposta\n",
    "                opcao = 0\n",
    "            elif opcao == 2:\n",
    "              dinheiro -= aposta/2         \n",
    "    elif opcao == 2:\n",
    "        dinheiro += float(input('Digite o valor que deseja acrescentar: '))\n",
    "        \n",
    "    print(f'\\nDinheiro atual: R${dinheiro}')\n",
    "    opcao = int(input('\\nO que deseja fazer?\\n1 - Jogar mais uma\\n2- Colocar mais dinheiro\\n0 - Sair\\n'))\n",
    "    \n",
    "                  \n",
    "                  \n",
    "                  \n",
    "print(f'Você começou com R${dinheiro_inicial} e terminou com R${dinheiro}, sendo assim seu lucro foi de R${dinheiro - dinheiro_inicial}')"
   ]
  },
  {
   "cell_type": "code",
   "execution_count": null,
   "metadata": {},
   "outputs": [],
   "source": []
  }
 ],
 "metadata": {
  "kernelspec": {
   "display_name": "Python 3",
   "language": "python",
   "name": "python3"
  },
  "language_info": {
   "codemirror_mode": {
    "name": "ipython",
    "version": 3
   },
   "file_extension": ".py",
   "mimetype": "text/x-python",
   "name": "python",
   "nbconvert_exporter": "python",
   "pygments_lexer": "ipython3",
   "version": "3.7.4"
  }
 },
 "nbformat": 4,
 "nbformat_minor": 4
}
