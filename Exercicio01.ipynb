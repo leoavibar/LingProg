{
 "cells": [
  {
   "cell_type": "markdown",
   "metadata": {},
   "source": [
    "### Exercícios de Paradigmas de Linguagens de Programação\n",
    "\n",
    "1. Faça um Programa que peça o raio de um círculo, calcule e mostre sua área."
   ]
  },
  {
   "cell_type": "code",
   "execution_count": 1,
   "metadata": {},
   "outputs": [
    {
     "name": "stdin",
     "output_type": "stream",
     "text": [
      "Digite a area do circulo:  2\n"
     ]
    },
    {
     "name": "stdout",
     "output_type": "stream",
     "text": [
      "A área do circulo é 12.56\n"
     ]
    }
   ],
   "source": [
    "r = float(input('Digite a area do circulo: '))\n",
    "e = 3.14 * (r * r)\n",
    "print('A área do circulo é',e)"
   ]
  },
  {
   "cell_type": "markdown",
   "metadata": {},
   "source": [
    "2. Faça um Programa que calcule a área de um quadrado, em seguida mostre o dobro  \n",
    "desta área para o usuário."
   ]
  },
  {
   "cell_type": "code",
   "execution_count": 2,
   "metadata": {},
   "outputs": [
    {
     "name": "stdin",
     "output_type": "stream",
     "text": [
      "Digite o lado do quadrado:  12\n"
     ]
    },
    {
     "name": "stdout",
     "output_type": "stream",
     "text": [
      "A área do quadrado é 144.0 o dobro desta área é 288.0\n"
     ]
    }
   ],
   "source": [
    "l = float(input('Digite o lado do quadrado: '))\n",
    "aq = l * l\n",
    "aqd = aq * 2\n",
    "print('A área do quadrado é',aq,'o dobro desta área é',aqd)"
   ]
  },
  {
   "cell_type": "markdown",
   "metadata": {},
   "source": [
    "3. Faça um Programa que pergunte quanto você ganha por hora e o número de horas  \n",
    "trabalhadas no mês. Calcule e mostre o total do seu salário no referido mês."
   ]
  },
  {
   "cell_type": "code",
   "execution_count": 3,
   "metadata": {},
   "outputs": [
    {
     "name": "stdin",
     "output_type": "stream",
     "text": [
      "Digite quanto você ganha por hora: 4\n",
      "Digite o número de horas trabalhadas no mês: 12\n"
     ]
    },
    {
     "name": "stdout",
     "output_type": "stream",
     "text": [
      "O total do seu salário nesse mês é: R$ 48.0\n"
     ]
    }
   ],
   "source": [
    "dh = float(input('Digite quanto você ganha por hora:'))\n",
    "mh = int(input('Digite o número de horas trabalhadas no mês:'))\n",
    "ts = dh * mh\n",
    "print('O total do seu salário nesse mês é: R$',ts)"
   ]
  },
  {
   "cell_type": "markdown",
   "metadata": {},
   "source": [
    "4.  Faça um Programa que peça a temperatura em graus Farenheit, transforme e  \n",
    "mostre a temperatura em graus Celsius. C = (5 * (F-32) / 9)."
   ]
  },
  {
   "cell_type": "code",
   "execution_count": 4,
   "metadata": {},
   "outputs": [
    {
     "name": "stdin",
     "output_type": "stream",
     "text": [
      "Digite uma temperatura em graus Farenheit: 120\n"
     ]
    },
    {
     "name": "stdout",
     "output_type": "stream",
     "text": [
      "A temperatura em graus Celsius é: 48.888888888888886 °C\n"
     ]
    }
   ],
   "source": [
    "f = float(input('Digite uma temperatura em graus Farenheit:'))\n",
    "c= (5 * (f-32) / 9)\n",
    "print('A temperatura em graus Celsius é:',c,'°C')"
   ]
  },
  {
   "cell_type": "markdown",
   "metadata": {},
   "source": [
    "5. Faça um Programa que peça a temperatura em graus Celsius, transforme e mostre  \n",
    "em graus Farenheit."
   ]
  },
  {
   "cell_type": "code",
   "execution_count": 5,
   "metadata": {},
   "outputs": [
    {
     "name": "stdin",
     "output_type": "stream",
     "text": [
      "Digite uma temperatura em graus Celsius: 20\n"
     ]
    },
    {
     "name": "stdout",
     "output_type": "stream",
     "text": [
      "A temperatura em graus Farenheit é: 120.0 °F\n"
     ]
    }
   ],
   "source": [
    "c1 = float(input('Digite uma temperatura em graus Celsius:'))\n",
    "f2 = c * (9 / 5) + 32\n",
    "print('A temperatura em graus Farenheit é:',f2,'°F')"
   ]
  },
  {
   "cell_type": "markdown",
   "metadata": {},
   "source": [
    "6. Faça um Programa que peça 2 números inteiros e um número real. Calcule e mostre:"
   ]
  },
  {
   "cell_type": "code",
   "execution_count": 6,
   "metadata": {},
   "outputs": [
    {
     "name": "stdin",
     "output_type": "stream",
     "text": [
      "Digite um número inteiro: 2\n",
      "Digite outro número inteiro: 3\n",
      "Digite um número real: 2.7\n"
     ]
    }
   ],
   "source": [
    "ni1 = int(input('Digite um número inteiro:'))\n",
    "ni2 = int(input('Digite outro número inteiro:'))\n",
    "nr = float(input('Digite um número real:'))"
   ]
  },
  {
   "cell_type": "markdown",
   "metadata": {},
   "source": [
    "- o produto do dobro do primeiro com metade do segundo."
   ]
  },
  {
   "cell_type": "code",
   "execution_count": 7,
   "metadata": {},
   "outputs": [
    {
     "name": "stdout",
     "output_type": "stream",
     "text": [
      "O produto do dobro do primeiro número com metade do segundo número digitado é = 6.0\n"
     ]
    }
   ],
   "source": [
    "e1 = ni1 * 2 * (ni2 / 2)\n",
    "print('O produto do dobro do primeiro número com metade do segundo número digitado é =',e1)"
   ]
  },
  {
   "cell_type": "markdown",
   "metadata": {},
   "source": [
    "- a soma do triplo do primeiro com o terceiro."
   ]
  },
  {
   "cell_type": "code",
   "execution_count": 8,
   "metadata": {},
   "outputs": [
    {
     "name": "stdout",
     "output_type": "stream",
     "text": [
      "A soma do triplo do primeiro número com o terceiro número digitado é = 8.7\n"
     ]
    }
   ],
   "source": [
    "e2 = ni1 * 3 + nr\n",
    "print('A soma do triplo do primeiro número com o terceiro número digitado é =',e2)"
   ]
  },
  {
   "cell_type": "markdown",
   "metadata": {},
   "source": [
    "- o terceiro elevado ao cubo."
   ]
  },
  {
   "cell_type": "code",
   "execution_count": 9,
   "metadata": {},
   "outputs": [
    {
     "name": "stdout",
     "output_type": "stream",
     "text": [
      "O terceiro número digitado elevado ao cubo é = 19.683000000000003\n"
     ]
    }
   ],
   "source": [
    "e3 = nr ** 3\n",
    "print('O terceiro número digitado elevado ao cubo é =',e3)"
   ]
  },
  {
   "cell_type": "markdown",
   "metadata": {},
   "source": [
    "7. João Papo-de-Pescador, homem de bem, comprou um microcomputador para controlar o rendimento diário de seu trabalho.   \n",
    "Toda vez que ele traz um peso de peixes maior que o estabelecido pelo regulamento de pesca do estado de São Paulo (50 quilos)   \n",
    "deve pagar uma multa de R$ 4,00 por quilo excedente. João precisa que você faça um programa que leia a variável peso (peso de peixes)  \n",
    "e verifique se há excesso. Se houver, gravar na variável excesso e na variável multa o valor da multa que João deverá pagar.   \n",
    "Caso contrário mostrar tais variáveis com o conteúdo ZERO."
   ]
  },
  {
   "cell_type": "code",
   "execution_count": 10,
   "metadata": {},
   "outputs": [
    {
     "name": "stdin",
     "output_type": "stream",
     "text": [
      "Digite o número de quilos do peixe que você pegou: 12\n"
     ]
    },
    {
     "name": "stdout",
     "output_type": "stream",
     "text": [
      "Não teve excesso\n"
     ]
    }
   ],
   "source": [
    "p = float(input('Digite o número de quilos do peixe que você pegou:'))\n",
    "if p > 50:\n",
    "    multa = (p - 50) * 4\n",
    "    print('Total da multa:R$',multa)\n",
    "else:\n",
    "    print('Não teve excesso')"
   ]
  },
  {
   "cell_type": "markdown",
   "metadata": {},
   "source": [
    "### 8. Faça um Programa que pergunte quanto você ganha por hora e o número de horas trabalhadas no mês.   \n",
    "Calcule e mostre o total do seu salário no referido mês, sabendo-se que são descontados 11% para o   \n",
    "Imposto de Renda, 8% para o INSS e 5% para o sindicato, faça um programa que nos dê:"
   ]
  },
  {
   "cell_type": "code",
   "execution_count": 11,
   "metadata": {},
   "outputs": [
    {
     "name": "stdin",
     "output_type": "stream",
     "text": [
      "Quanto você ganha por hora: 1250.87\n",
      "Número de horas trabalhadas no mês: 120\n"
     ]
    }
   ],
   "source": [
    "qh = float(input('Quanto você ganha por hora:'))\n",
    "h = int(input('Número de horas trabalhadas no mês:'))"
   ]
  },
  {
   "cell_type": "markdown",
   "metadata": {},
   "source": [
    "- salário bruto."
   ]
  },
  {
   "cell_type": "code",
   "execution_count": 12,
   "metadata": {},
   "outputs": [
    {
     "name": "stdout",
     "output_type": "stream",
     "text": [
      "Seu salário bruto é 150104.4\n"
     ]
    }
   ],
   "source": [
    "sb = qh * h\n",
    "print('Seu salário bruto é',sb)"
   ]
  },
  {
   "cell_type": "markdown",
   "metadata": {},
   "source": [
    "- quanto pagou ao INSS."
   ]
  },
  {
   "cell_type": "code",
   "execution_count": 13,
   "metadata": {},
   "outputs": [
    {
     "name": "stdout",
     "output_type": "stream",
     "text": [
      "INSS = 12008.351999999999\n"
     ]
    }
   ],
   "source": [
    "inss = (8/100.0) * sb\n",
    "print('INSS =',inss)"
   ]
  },
  {
   "cell_type": "markdown",
   "metadata": {},
   "source": [
    "- quanto pagou ao Sindicato."
   ]
  },
  {
   "cell_type": "code",
   "execution_count": 14,
   "metadata": {},
   "outputs": [
    {
     "name": "stdout",
     "output_type": "stream",
     "text": [
      "Sindicato = 7505.22\n"
     ]
    }
   ],
   "source": [
    "sindicato = (5/100.0) * sb\n",
    "print('Sindicato =',sindicato)"
   ]
  },
  {
   "cell_type": "markdown",
   "metadata": {},
   "source": [
    "- quanto pagou ao Imposto de Renda"
   ]
  },
  {
   "cell_type": "code",
   "execution_count": 15,
   "metadata": {},
   "outputs": [
    {
     "name": "stdout",
     "output_type": "stream",
     "text": [
      "Imposto de Renda = 16511.484\n"
     ]
    }
   ],
   "source": [
    "ir = (11/100.0) * sb\n",
    "print('Imposto de Renda =',ir)"
   ]
  },
  {
   "cell_type": "markdown",
   "metadata": {},
   "source": [
    "- o salário líquido."
   ]
  },
  {
   "cell_type": "code",
   "execution_count": 16,
   "metadata": {},
   "outputs": [
    {
     "name": "stdout",
     "output_type": "stream",
     "text": [
      "Seu salário liquido é 114079.344\n"
     ]
    }
   ],
   "source": [
    "sl = sb - (inss + sindicato + ir)\n",
    "print('Seu salário liquido é',sl)"
   ]
  },
  {
   "cell_type": "markdown",
   "metadata": {},
   "source": [
    "9. Faça um programa que leia 2 strings e informe o conteúdo delas seguido do seu comprimento.   \n",
    "Informe também se as duas strings possuem o mesmo comprimento e são iguais ou diferentes no conteúdo.   \n",
    "Exemplo:   \n",
    "String 1: 'Brasil Hexa 2018'   \n",
    "String 2: 'Brasil! Hexa 2018!'            \n",
    "Tamanho de \"Brasil Hexa 2018\": 16 caracteres    \n",
    "Tamanho de \"Brasil! Hexa 2018!\": 18 caracteres    \n",
    "As duas strings são de tamanhos diferentes.   \n",
    "As duas strings possuem conteúdo diferente.   "
   ]
  },
  {
   "cell_type": "code",
   "execution_count": 17,
   "metadata": {},
   "outputs": [
    {
     "name": "stdin",
     "output_type": "stream",
     "text": [
      "String 1: Brasil Hexa 2018\n",
      "String 2: Brasil! Hexa 2018!\n"
     ]
    },
    {
     "name": "stdout",
     "output_type": "stream",
     "text": [
      "Tamanho de Brasil Hexa 2018 : 16\n",
      "Tamanho de Brasil! Hexa 2018! : 18\n",
      "As duas strings são de tamanhos diferentes.\n",
      "As duas strings possuem conteúdo diferente.\n"
     ]
    }
   ],
   "source": [
    "s1 = input(\"String 1:\")\n",
    "s2 = input(\"String 2:\")\n",
    "print(\"Tamanho de\",s1,\":\",len(s1))\n",
    "print(\"Tamanho de\",s2,\":\",len(s2))\n",
    "\n",
    "if len(s1) == len(s2):\n",
    "    print(\"As duas strings são de tamanhos iguais.\")\n",
    "else:\n",
    "    print(\"As duas strings são de tamanhos diferentes.\")\n",
    "\n",
    "if s1.lower() == s2.lower():\n",
    "    print(\"As duas strings possuem conteúdo iguais.\")\n",
    "else: \n",
    "    print(\"As duas strings possuem conteúdo diferente.\")"
   ]
  },
  {
   "cell_type": "markdown",
   "metadata": {},
   "source": [
    "10. Faça um programa que permita ao usuário digitar o seu nome e em seguida   \n",
    "mostre o nome do usuário de trás para frente utilizando somente letras maiúsculas.    \n",
    "Dica: lembre−se que ao informar o nome o usuário pode digitar letras maiúsculas ou minúsculas. Observação: não use loops.   "
   ]
  },
  {
   "cell_type": "code",
   "execution_count": 18,
   "metadata": {},
   "outputs": [
    {
     "name": "stdin",
     "output_type": "stream",
     "text": [
      "Usuário, digite o seu nome: Leo avibar\n"
     ]
    },
    {
     "name": "stdout",
     "output_type": "stream",
     "text": [
      "O nome do usuário de trás para frente utilizando somente letras maiúsculas: RABIVA OEL\n"
     ]
    }
   ],
   "source": [
    "nome = input('Usuário, digite o seu nome:')\n",
    "nome = nome.upper()\n",
    "print('O nome do usuário de trás para frente utilizando somente letras maiúsculas:',nome[::-1])"
   ]
  },
  {
   "cell_type": "markdown",
   "metadata": {},
   "source": [
    "11. Faça um programa que solicite a data de nascimento (dd/mm/aaaa) do usuário e imprima a data com o nome do mês por extenso.   \n",
    "Data de Nascimento: 29/10/1973   \n",
    "Você nasceu em  29 de Outubro de 1973.   \n",
    "Obs.: Não use desvio condicional nem loops.   "
   ]
  },
  {
   "cell_type": "code",
   "execution_count": 19,
   "metadata": {},
   "outputs": [
    {
     "name": "stdin",
     "output_type": "stream",
     "text": [
      "informe a data (dd/mm/aaaa):  21/03/1998\n"
     ]
    },
    {
     "name": "stdout",
     "output_type": "stream",
     "text": [
      "Você nasce em:\n",
      "21 de março de 1998\n"
     ]
    }
   ],
   "source": [
    "data = input(\"informe a data (dd/mm/aaaa): \")\n",
    "meses = ['janeiro','fevereiro','março','abril',\n",
    "         'maio','junho','julho','agosto','setembro',\n",
    "         'outubro','novembro','dezembro']\n",
    "print ('Você nasce em:')\n",
    "print (data.split(\"/\")[0],\n",
    "       \"de\",\n",
    "       meses[(int(data.split(\"/\")[1])-1)],\n",
    "       \"de\",\n",
    "       data.split(\"/\")[2])"
   ]
  },
  {
   "cell_type": "markdown",
   "metadata": {},
   "source": [
    "12. Leet é uma forma de se escrever o alfabeto latino usando outros símbolos em   \n",
    "lugar das letras, como números por exemplo. A própria palavra leet admite muitas   \n",
    "variações, como l33t ou 1337. O uso do leet reflete uma subcultura relacionada ao   \n",
    "mundo dos jogos de computador e internet, sendo muito usada para confundir os   \n",
    "iniciantes e afirmar-se como parte de um grupo. Pesquise sobre as principais formas   \n",
    "de traduzir as letras. Depois, faça um programa que peça uma texto e transforme-o   \n",
    "para a grafia leet speak.   \n",
    "Desafio: não use loops nem desvios condicionais."
   ]
  },
  {
   "cell_type": "code",
   "execution_count": 20,
   "metadata": {},
   "outputs": [
    {
     "name": "stdin",
     "output_type": "stream",
     "text": [
      "Escreva um texto: Leonardo Martinez Avibar \n"
     ]
    },
    {
     "name": "stdout",
     "output_type": "stream",
     "text": [
      "Texto traduzido para a grafia leet speak:\n",
      "|_\n",
      "3\n",
      "0\n",
      "|V\n",
      "4\n",
      "l2\n",
      "[)\n",
      "0\n",
      " \n",
      "^^\n",
      "4\n",
      "l2\n",
      "7\n",
      "1\n",
      "|V\n",
      "3\n",
      "7_\n",
      " \n",
      "4\n",
      "\\//\n",
      "1\n",
      "13\n",
      "4\n",
      "l2\n",
      " \n"
     ]
    }
   ],
   "source": [
    "leet = {\n",
    "    'A': '4',\n",
    "    'B': '13',\n",
    "    'C': '<',\n",
    "    'D': '[)',\n",
    "    'E': '3',\n",
    "    'F': '|=',\n",
    "    'G': '6',\n",
    "    'H': '#',\n",
    "    'I': '1',\n",
    "    'J': 'u|',\n",
    "    'K': '|<',\n",
    "    'L': '|_',\n",
    "    'M': '^^',\n",
    "    'N': '|V',\n",
    "    'O': '0',\n",
    "    'P': '|D',\n",
    "    'Q': '9',\n",
    "    'R': 'l2',\n",
    "    'S': '5',\n",
    "    'T': '7',\n",
    "    'U': '\\_/',\n",
    "    'V': '\\\\//',\n",
    "    'W': 'vv',\n",
    "    'X': '><',\n",
    "    'Y': '`/',\n",
    "    'Z': '7_'\n",
    "}\n",
    "t = input('Escreva um texto:')\n",
    "print('Texto traduzido para a grafia leet speak:')\n",
    "for i in t.upper():\n",
    "    if i.isalpha():\n",
    "        print(leet[i]),\n",
    "    else:\n",
    "        print(' '),"
   ]
  }
 ],
 "metadata": {
  "kernelspec": {
   "display_name": "Python 3",
   "language": "python",
   "name": "python3"
  },
  "language_info": {
   "codemirror_mode": {
    "name": "ipython",
    "version": 3
   },
   "file_extension": ".py",
   "mimetype": "text/x-python",
   "name": "python",
   "nbconvert_exporter": "python",
   "pygments_lexer": "ipython3",
   "version": "3.7.4"
  }
 },
 "nbformat": 4,
 "nbformat_minor": 4
}
