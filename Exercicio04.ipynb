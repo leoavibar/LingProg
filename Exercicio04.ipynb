{
 "cells": [
  {
   "cell_type": "markdown",
   "metadata": {},
   "source": [
    "# Exercícios de Paradigmas de Linguagens de Programação\n",
    "\n",
    "1 Menor de dois pares: Escreva uma função que retorne o menor de dois números\n",
    "dados se ambos os números forem pares, mas retorna o maior se um dos dois for\n",
    "ímpar. Exemplo:   \n",
    "menor_de_dois_pares(2,4) --&gt; 2   \n",
    "menor_de_dois_pares (2,5) --&gt; 5   "
   ]
  },
  {
   "cell_type": "code",
   "execution_count": 1,
   "metadata": {},
   "outputs": [
    {
     "name": "stdout",
     "output_type": "stream",
     "text": [
      "menor_de_dois_pares(2, 4) --> 2\n",
      "menor_de_dois_pares(2, 5) --> 5\n"
     ]
    }
   ],
   "source": [
    "def menor_de_dois_pares(num1,num2):\n",
    "    if num1 % 2 == 0 and num2 % 2 == 0:\n",
    "        if num1 < num2:\n",
    "            return num1\n",
    "        else:\n",
    "            return num2\n",
    "    else:\n",
    "        if num1 > num2:\n",
    "            return num1\n",
    "        else:\n",
    "            return num2\n",
    "\n",
    "print(f'menor_de_dois_pares(2, 4) --> {menor_de_dois_pares(2,4)}')\n",
    "print(f'menor_de_dois_pares(2, 5) --> {menor_de_dois_pares(2,5)}')"
   ]
  },
  {
   "cell_type": "markdown",
   "metadata": {},
   "source": [
    "2 Mesma letra: Escreva uma função que receba uma string com duas palavras e\n",
    "retorne True se ambas palavras começarem com a mesma letra. Exemplo:   \n",
    "mesma_letra(&#39;Cão covarde&#39;) -&gt; True   \n",
    "mesma_letra(&#39;Vira Lata&#39;) -&gt; False   "
   ]
  },
  {
   "cell_type": "code",
   "execution_count": 5,
   "metadata": {},
   "outputs": [
    {
     "name": "stdout",
     "output_type": "stream",
     "text": [
      "mesma_letra('Cão covarde') --> True\n",
      "mesma_letra('Vira Lata') --> False\n"
     ]
    }
   ],
   "source": [
    "def mesma_letra(string):\n",
    "    p1, p2 = string.split()\n",
    "    if p1[0].lower() == p2[0].lower():\n",
    "        return True\n",
    "    else:\n",
    "        return False\n",
    "\n",
    "print(f\"mesma_letra('Cão covarde') --> {mesma_letra('Cão covarde')}\")\n",
    "print(f\"mesma_letra('Vira Lata') --> {mesma_letra('Vira Lata')}\")"
   ]
  },
  {
   "cell_type": "markdown",
   "metadata": {},
   "source": [
    "3 Mestre Yoda: Dada uma sentença, a função deve retornar a sentença com as\n",
    "palavras na ordem reversa. Exemplo:   \n",
    "mestre_yoda(&#39;Eu estou em casa&#39;) --&gt; &#39;casa em estou Eu&#39;   \n",
    "mestre_yoda(&#39;Estamos prontos&#39;) --&gt; &#39;prontos Estamos&#39;   "
   ]
  },
  {
   "cell_type": "code",
   "execution_count": 6,
   "metadata": {},
   "outputs": [
    {
     "name": "stdout",
     "output_type": "stream",
     "text": [
      "mestre_yoda('Eu estou em casa') --> 'casa em estou Eu'\n",
      "mestre_yoda('Estamos prontos') --> 'prontos Estamos'\n"
     ]
    }
   ],
   "source": [
    "def mestre_yoda(string):\n",
    "    palavras = string.split()\n",
    "    palavras.reverse()\n",
    "    yoda = \"\"\n",
    "    for i in range(0, len(palavras) - 1):\n",
    "        palavras[i] = palavras[i] + \" \"\n",
    "    for palavra in palavras:\n",
    "        yoda += palavra\n",
    "    return yoda\n",
    "\n",
    "print(f\"mestre_yoda('Eu estou em casa') --> '{mestre_yoda('Eu estou em casa')}'\")\n",
    "print(f\"mestre_yoda('Estamos prontos') --> '{mestre_yoda('Estamos prontos')}'\")"
   ]
  },
  {
   "cell_type": "markdown",
   "metadata": {},
   "source": [
    "4 Tem 33: Faça uma função que retorne True se, dada uma lista de inteiros, houver\n",
    "em alguma posição da lista um 3 do lado de outro 3. Exemplo:    \n",
    "tem_33([1,3,3]) --&gt; True    \n",
    "tem_33([1,3,1,3]) --&gt; False   \n",
    "tem_33([3,1,3]) --&gt; False   "
   ]
  },
  {
   "cell_type": "code",
   "execution_count": 7,
   "metadata": {},
   "outputs": [
    {
     "name": "stdout",
     "output_type": "stream",
     "text": [
      "tem_33([1,3,3]) --> True\n",
      "tem_33([1,3,1,3]) --> False\n",
      "tem_33([3,1,3]) --> False\n"
     ]
    }
   ],
   "source": [
    "def tem_33(lista):\n",
    "    for i in range(0, len(lista)):\n",
    "        if lista[i] == 3:\n",
    "            if i + 1 < len(lista):\n",
    "                if lista[i+1] == 3:\n",
    "                    return True\n",
    "    return False\n",
    "\n",
    "print(f'tem_33([1,3,3]) --> {tem_33([1,3,3])}')\n",
    "print(f'tem_33([1,3,1,3]) --> {tem_33([1,3,1,3])}')\n",
    "print(f'tem_33([3,1,3]) --> {tem_33([3,1,3])}')"
   ]
  },
  {
   "cell_type": "markdown",
   "metadata": {},
   "source": [
    "5 Blackjack: Faça uma função que receba 3 inteiros entre 1 e 11. Se a soma deles for\n",
    "menor que 21, retorne o valor da soma. Se for mair do que 21 e houver um 11,\n",
    "subtraia 10 da soma antes de apresentar o resultado. Se o valor da soma passar de\n",
    "21, retorne ‘ESTOUROU’. Exemplo:   \n",
    "\n",
    "blackjack(5,6,7) --&gt; 18   \n",
    "blackjack(9,9,9) --&gt; &#39;ESTOUROU&#39;   \n",
    "blackjack(9,9,11) --&gt; 19   "
   ]
  },
  {
   "cell_type": "code",
   "execution_count": 8,
   "metadata": {},
   "outputs": [
    {
     "name": "stdout",
     "output_type": "stream",
     "text": [
      "blackjack(5,6,7) --> 18\n",
      "blackjack(9,9,9) --> ESTOUROU\n",
      "blackjack(9,9,11) --> 19\n"
     ]
    }
   ],
   "source": [
    "def blackjack(n1, n2, n3):\n",
    "    if (1 <= n1 <= 11) and (1 <= n2 <= 11) and (1 <= n3 <= 11):\n",
    "        if n1 + n2 + n3 <= 21:\n",
    "            return n1 + n2 + n3\n",
    "        else:\n",
    "            if n1 == 11 or n2 == 11 or n3 == 11:\n",
    "                return n1 + n2 + n3 - 10\n",
    "            else:\n",
    "                return \"ESTOUROU\"\n",
    "    else:\n",
    "        return \"Os números não estão entre 1 e 11.\"\n",
    "    \n",
    "print(f'blackjack(5,6,7) --> {blackjack(5,6,7)}')\n",
    "print(f'blackjack(9,9,9) --> {blackjack(9,9,9)}')\n",
    "print(f'blackjack(9,9,11) --> {blackjack(9,9,11)}')"
   ]
  },
  {
   "cell_type": "markdown",
   "metadata": {},
   "source": [
    "6 Espião: Escreva uma função que receba uma lista de\n",
    "inteiros e retorne True se contém um 007 em ordem, mesmo\n",
    "que não contínuo. Exemplo:   \n",
    "espiao([1,2,4,0,0,7,5]) --&gt; True   \n",
    "espiao([1,0,2,4,0,5,7]) --&gt; True   \n",
    "espiao([1,7,2,4,0,5,0]) --&gt; False   "
   ]
  },
  {
   "cell_type": "code",
   "execution_count": 9,
   "metadata": {},
   "outputs": [
    {
     "name": "stdout",
     "output_type": "stream",
     "text": [
      "espiao([1,2,4,0,0,7,5]) --> True\n",
      "espiao([1,0,2,4,0,5,7]) --> True\n",
      "espiao([1,7,2,4,0,5,0]) --> False\n"
     ]
    }
   ],
   "source": [
    "def espiao(l):\n",
    "    for x in range(0, len(l)):\n",
    "        if l[x] == 0 and x + 1 < len(l):\n",
    "            y = x + 1\n",
    "            for y in range(y, len(l)):\n",
    "                if l[y] == 0 and y + 1 < len(l):\n",
    "                    z = y + 1\n",
    "                    for z in range(z, len(l)):\n",
    "                        if l[z] == 7:\n",
    "                            return True\n",
    "    return False\n",
    "\n",
    "print(f'espiao([1,2,4,0,0,7,5]) --> {espiao([1,2,4,0,0,7,5])}')\n",
    "print(f'espiao([1,0,2,4,0,5,7]) --> {espiao([1,0,2,4,0,5,7])}')\n",
    "print(f'espiao([1,7,2,4,0,5,0]) --> {espiao([1,7,2,4,0,5,0])}')"
   ]
  },
  {
   "cell_type": "code",
   "execution_count": null,
   "metadata": {},
   "outputs": [],
   "source": []
  }
 ],
 "metadata": {
  "kernelspec": {
   "display_name": "Python 3",
   "language": "python",
   "name": "python3"
  },
  "language_info": {
   "codemirror_mode": {
    "name": "ipython",
    "version": 3
   },
   "file_extension": ".py",
   "mimetype": "text/x-python",
   "name": "python",
   "nbconvert_exporter": "python",
   "pygments_lexer": "ipython3",
   "version": "3.7.4"
  }
 },
 "nbformat": 4,
 "nbformat_minor": 4
}
